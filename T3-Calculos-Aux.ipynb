{
 "cells": [
  {
   "cell_type": "code",
   "execution_count": 1,
   "metadata": {},
   "outputs": [
    {
     "data": {
      "text/plain": [
       "'SageMath version 9.3, Release Date: 2021-05-09'"
      ]
     },
     "execution_count": 1,
     "metadata": {},
     "output_type": "execute_result"
    }
   ],
   "source": [
    "version()"
   ]
  },
  {
   "cell_type": "code",
   "execution_count": 2,
   "metadata": {},
   "outputs": [],
   "source": [
    "%display latex"
   ]
  },
  {
   "cell_type": "code",
   "execution_count": 3,
   "metadata": {},
   "outputs": [],
   "source": [
    "#Definición de la variedad\n",
    "M=Manifold(4,'M', structure='Lorentzian', latex_name=r'\\mathcal{M}')\n",
    "X.<t,r,th,ph> = M.chart(r't r:(0,+oo) th:(0,pi):\\theta ph:\\varphi')"
   ]
  },
  {
   "cell_type": "code",
   "execution_count": 4,
   "metadata": {},
   "outputs": [
    {
     "data": {
      "text/html": [
       "<html><script type=\"math/tex; mode=display\">\\newcommand{\\Bold}[1]{\\mathbf{#1}}g = -e^{\\Gamma\\left(r\\right)} \\mathrm{d} t\\otimes \\mathrm{d} t + e^{\\Lambda\\left(r\\right)} \\mathrm{d} r\\otimes \\mathrm{d} r + r^{2} \\mathrm{d} {\\theta}\\otimes \\mathrm{d} {\\theta} + r^{2} \\sin\\left({\\theta}\\right)^{2} \\mathrm{d} {\\varphi}\\otimes \\mathrm{d} {\\varphi}</script></html>"
      ],
      "text/latex": [
       "$$\\newcommand{\\Bold}[1]{\\mathbf{#1}}g = -e^{\\Gamma\\left(r\\right)} \\mathrm{d} t\\otimes \\mathrm{d} t + e^{\\Lambda\\left(r\\right)} \\mathrm{d} r\\otimes \\mathrm{d} r + r^{2} \\mathrm{d} {\\theta}\\otimes \\mathrm{d} {\\theta} + r^{2} \\sin\\left({\\theta}\\right)^{2} \\mathrm{d} {\\varphi}\\otimes \\mathrm{d} {\\varphi}$$"
      ],
      "text/plain": [
       "g = -e^gamm(r) dt*dt + e^lamb(r) dr*dr + r^2 dth*dth + r^2*sin(th)^2 dph*dph"
      ]
     },
     "execution_count": 4,
     "metadata": {},
     "output_type": "execute_result"
    }
   ],
   "source": [
    "#Masa del agujero negro\n",
    "r=var('r')\n",
    "#Definición de la métrica\n",
    "function('gamm', latex_name=r'\\Gamma')\n",
    "function('lamb', latex_name=r'\\Lambda')\n",
    "g=M.metric()\n",
    "g[0,0]=-exp(gamm(r))\n",
    "g[1,1]=exp(lamb(r))\n",
    "g[2,2]=r^2\n",
    "g[3,3]=r^2*sin(th)^2\n",
    "g.display()"
   ]
  },
  {
   "cell_type": "code",
   "execution_count": 5,
   "metadata": {},
   "outputs": [
    {
     "data": {
      "text/html": [
       "<html><script type=\"math/tex; mode=display\">\\newcommand{\\Bold}[1]{\\mathbf{#1}}\\left(\\begin{array}{rrrr}\n",
       "-e^{\\Gamma\\left(r\\right)} & 0 & 0 & 0 \\\\\n",
       "0 & e^{\\Lambda\\left(r\\right)} & 0 & 0 \\\\\n",
       "0 & 0 & r^{2} & 0 \\\\\n",
       "0 & 0 & 0 & r^{2} \\sin\\left({\\theta}\\right)^{2}\n",
       "\\end{array}\\right)</script></html>"
      ],
      "text/latex": [
       "$$\\newcommand{\\Bold}[1]{\\mathbf{#1}}\\left(\\begin{array}{rrrr}\n",
       "-e^{\\Gamma\\left(r\\right)} & 0 & 0 & 0 \\\\\n",
       "0 & e^{\\Lambda\\left(r\\right)} & 0 & 0 \\\\\n",
       "0 & 0 & r^{2} & 0 \\\\\n",
       "0 & 0 & 0 & r^{2} \\sin\\left({\\theta}\\right)^{2}\n",
       "\\end{array}\\right)$$"
      ],
      "text/plain": [
       "[   -e^gamm(r)             0             0             0]\n",
       "[            0     e^lamb(r)             0             0]\n",
       "[            0             0           r^2             0]\n",
       "[            0             0             0 r^2*sin(th)^2]"
      ]
     },
     "execution_count": 5,
     "metadata": {},
     "output_type": "execute_result"
    }
   ],
   "source": [
    "g[:]"
   ]
  },
  {
   "cell_type": "code",
   "execution_count": 6,
   "metadata": {},
   "outputs": [
    {
     "data": {
      "text/html": [
       "<html><script type=\"math/tex; mode=display\">\\newcommand{\\Bold}[1]{\\mathbf{#1}}g^{-1}</script></html>"
      ],
      "text/latex": [
       "$$\\newcommand{\\Bold}[1]{\\mathbf{#1}}g^{-1}$$"
      ],
      "text/plain": [
       "Tensor field inv_g of type (2,0) on the 4-dimensional Lorentzian manifold M"
      ]
     },
     "execution_count": 6,
     "metadata": {},
     "output_type": "execute_result"
    }
   ],
   "source": [
    "ginv=g.inverse()\n",
    "ginv"
   ]
  },
  {
   "cell_type": "code",
   "execution_count": 7,
   "metadata": {
    "scrolled": false
   },
   "outputs": [
    {
     "data": {
      "text/html": [
       "<html><script type=\"math/tex; mode=display\">\\newcommand{\\Bold}[1]{\\mathbf{#1}}\\begin{array}{lcl} \\Gamma_{ \\phantom{\\, t} \\, t \\, r }^{ \\, t \\phantom{\\, t} \\phantom{\\, r} } & = & \\frac{1}{2} \\, \\frac{\\partial\\,\\Gamma}{\\partial r} \\\\ \\Gamma_{ \\phantom{\\, r} \\, t \\, t }^{ \\, r \\phantom{\\, t} \\phantom{\\, t} } & = & \\frac{1}{2} \\, e^{\\left(\\Gamma\\left(r\\right) - \\Lambda\\left(r\\right)\\right)} \\frac{\\partial\\,\\Gamma}{\\partial r} \\\\ \\Gamma_{ \\phantom{\\, r} \\, r \\, r }^{ \\, r \\phantom{\\, r} \\phantom{\\, r} } & = & \\frac{1}{2} \\, \\frac{\\partial\\,\\Lambda}{\\partial r} \\\\ \\Gamma_{ \\phantom{\\, r} \\, {\\theta} \\, {\\theta} }^{ \\, r \\phantom{\\, {\\theta}} \\phantom{\\, {\\theta}} } & = & -r e^{\\left(-\\Lambda\\left(r\\right)\\right)} \\\\ \\Gamma_{ \\phantom{\\, r} \\, {\\varphi} \\, {\\varphi} }^{ \\, r \\phantom{\\, {\\varphi}} \\phantom{\\, {\\varphi}} } & = & -r e^{\\left(-\\Lambda\\left(r\\right)\\right)} \\sin\\left({\\theta}\\right)^{2} \\\\ \\Gamma_{ \\phantom{\\, {\\theta}} \\, r \\, {\\theta} }^{ \\, {\\theta} \\phantom{\\, r} \\phantom{\\, {\\theta}} } & = & \\frac{1}{r} \\\\ \\Gamma_{ \\phantom{\\, {\\theta}} \\, {\\varphi} \\, {\\varphi} }^{ \\, {\\theta} \\phantom{\\, {\\varphi}} \\phantom{\\, {\\varphi}} } & = & -\\cos\\left({\\theta}\\right) \\sin\\left({\\theta}\\right) \\\\ \\Gamma_{ \\phantom{\\, {\\varphi}} \\, r \\, {\\varphi} }^{ \\, {\\varphi} \\phantom{\\, r} \\phantom{\\, {\\varphi}} } & = & \\frac{1}{r} \\\\ \\Gamma_{ \\phantom{\\, {\\varphi}} \\, {\\theta} \\, {\\varphi} }^{ \\, {\\varphi} \\phantom{\\, {\\theta}} \\phantom{\\, {\\varphi}} } & = & \\frac{\\cos\\left({\\theta}\\right)}{\\sin\\left({\\theta}\\right)} \\end{array}</script></html>"
      ],
      "text/latex": [
       "$$\\newcommand{\\Bold}[1]{\\mathbf{#1}}\\begin{array}{lcl} \\Gamma_{ \\phantom{\\, t} \\, t \\, r }^{ \\, t \\phantom{\\, t} \\phantom{\\, r} } & = & \\frac{1}{2} \\, \\frac{\\partial\\,\\Gamma}{\\partial r} \\\\ \\Gamma_{ \\phantom{\\, r} \\, t \\, t }^{ \\, r \\phantom{\\, t} \\phantom{\\, t} } & = & \\frac{1}{2} \\, e^{\\left(\\Gamma\\left(r\\right) - \\Lambda\\left(r\\right)\\right)} \\frac{\\partial\\,\\Gamma}{\\partial r} \\\\ \\Gamma_{ \\phantom{\\, r} \\, r \\, r }^{ \\, r \\phantom{\\, r} \\phantom{\\, r} } & = & \\frac{1}{2} \\, \\frac{\\partial\\,\\Lambda}{\\partial r} \\\\ \\Gamma_{ \\phantom{\\, r} \\, {\\theta} \\, {\\theta} }^{ \\, r \\phantom{\\, {\\theta}} \\phantom{\\, {\\theta}} } & = & -r e^{\\left(-\\Lambda\\left(r\\right)\\right)} \\\\ \\Gamma_{ \\phantom{\\, r} \\, {\\varphi} \\, {\\varphi} }^{ \\, r \\phantom{\\, {\\varphi}} \\phantom{\\, {\\varphi}} } & = & -r e^{\\left(-\\Lambda\\left(r\\right)\\right)} \\sin\\left({\\theta}\\right)^{2} \\\\ \\Gamma_{ \\phantom{\\, {\\theta}} \\, r \\, {\\theta} }^{ \\, {\\theta} \\phantom{\\, r} \\phantom{\\, {\\theta}} } & = & \\frac{1}{r} \\\\ \\Gamma_{ \\phantom{\\, {\\theta}} \\, {\\varphi} \\, {\\varphi} }^{ \\, {\\theta} \\phantom{\\, {\\varphi}} \\phantom{\\, {\\varphi}} } & = & -\\cos\\left({\\theta}\\right) \\sin\\left({\\theta}\\right) \\\\ \\Gamma_{ \\phantom{\\, {\\varphi}} \\, r \\, {\\varphi} }^{ \\, {\\varphi} \\phantom{\\, r} \\phantom{\\, {\\varphi}} } & = & \\frac{1}{r} \\\\ \\Gamma_{ \\phantom{\\, {\\varphi}} \\, {\\theta} \\, {\\varphi} }^{ \\, {\\varphi} \\phantom{\\, {\\theta}} \\phantom{\\, {\\varphi}} } & = & \\frac{\\cos\\left({\\theta}\\right)}{\\sin\\left({\\theta}\\right)} \\end{array}$$"
      ],
      "text/plain": [
       "Gam^t_t,r = 1/2*d(gamm)/dr \n",
       "Gam^r_t,t = 1/2*e^(gamm(r) - lamb(r))*d(gamm)/dr \n",
       "Gam^r_r,r = 1/2*d(lamb)/dr \n",
       "Gam^r_th,th = -r*e^(-lamb(r)) \n",
       "Gam^r_ph,ph = -r*e^(-lamb(r))*sin(th)^2 \n",
       "Gam^th_r,th = 1/r \n",
       "Gam^th_ph,ph = -cos(th)*sin(th) \n",
       "Gam^ph_r,ph = 1/r \n",
       "Gam^ph_th,ph = cos(th)/sin(th) "
      ]
     },
     "execution_count": 7,
     "metadata": {},
     "output_type": "execute_result"
    }
   ],
   "source": [
    "#Cálculo de los símbolos de Christoffel\n",
    "g.christoffel_symbols_display()"
   ]
  },
  {
   "cell_type": "code",
   "execution_count": 8,
   "metadata": {},
   "outputs": [
    {
     "data": {
      "text/html": [
       "<html><script type=\"math/tex; mode=display\">\\newcommand{\\Bold}[1]{\\mathbf{#1}}\\begin{array}{lcl} \\mathrm{Riem}\\left(g\\right)_{ \\phantom{\\, t} \\, r \\, t \\, r }^{ \\, t \\phantom{\\, r} \\phantom{\\, t} \\phantom{\\, r} } & = & -\\frac{1}{4} \\, \\left(\\frac{\\partial\\,\\Gamma}{\\partial r}\\right)^{2} + \\frac{1}{4} \\, \\frac{\\partial\\,\\Gamma}{\\partial r} \\frac{\\partial\\,\\Lambda}{\\partial r} - \\frac{1}{2} \\, \\frac{\\partial^2\\,\\Gamma}{\\partial r ^ 2} \\\\ \\mathrm{Riem}\\left(g\\right)_{ \\phantom{\\, t} \\, {\\theta} \\, t \\, {\\theta} }^{ \\, t \\phantom{\\, {\\theta}} \\phantom{\\, t} \\phantom{\\, {\\theta}} } & = & -\\frac{1}{2} \\, r e^{\\left(-\\Lambda\\left(r\\right)\\right)} \\frac{\\partial\\,\\Gamma}{\\partial r} \\\\ \\mathrm{Riem}\\left(g\\right)_{ \\phantom{\\, t} \\, {\\varphi} \\, t \\, {\\varphi} }^{ \\, t \\phantom{\\, {\\varphi}} \\phantom{\\, t} \\phantom{\\, {\\varphi}} } & = & -\\frac{1}{2} \\, r e^{\\left(-\\Lambda\\left(r\\right)\\right)} \\sin\\left({\\theta}\\right)^{2} \\frac{\\partial\\,\\Gamma}{\\partial r} \\\\ \\mathrm{Riem}\\left(g\\right)_{ \\phantom{\\, r} \\, t \\, t \\, r }^{ \\, r \\phantom{\\, t} \\phantom{\\, t} \\phantom{\\, r} } & = & -\\frac{1}{4} \\, {\\left(e^{\\Gamma\\left(r\\right)} \\left(\\frac{\\partial\\,\\Gamma}{\\partial r}\\right)^{2} - e^{\\Gamma\\left(r\\right)} \\frac{\\partial\\,\\Gamma}{\\partial r} \\frac{\\partial\\,\\Lambda}{\\partial r} + 2 \\, e^{\\Gamma\\left(r\\right)} \\frac{\\partial^2\\,\\Gamma}{\\partial r ^ 2}\\right)} e^{\\left(-\\Lambda\\left(r\\right)\\right)} \\\\ \\mathrm{Riem}\\left(g\\right)_{ \\phantom{\\, r} \\, {\\theta} \\, r \\, {\\theta} }^{ \\, r \\phantom{\\, {\\theta}} \\phantom{\\, r} \\phantom{\\, {\\theta}} } & = & \\frac{1}{2} \\, r e^{\\left(-\\Lambda\\left(r\\right)\\right)} \\frac{\\partial\\,\\Lambda}{\\partial r} \\\\ \\mathrm{Riem}\\left(g\\right)_{ \\phantom{\\, r} \\, {\\varphi} \\, r \\, {\\varphi} }^{ \\, r \\phantom{\\, {\\varphi}} \\phantom{\\, r} \\phantom{\\, {\\varphi}} } & = & \\frac{1}{2} \\, r e^{\\left(-\\Lambda\\left(r\\right)\\right)} \\sin\\left({\\theta}\\right)^{2} \\frac{\\partial\\,\\Lambda}{\\partial r} \\\\ \\mathrm{Riem}\\left(g\\right)_{ \\phantom{\\, {\\theta}} \\, t \\, t \\, {\\theta} }^{ \\, {\\theta} \\phantom{\\, t} \\phantom{\\, t} \\phantom{\\, {\\theta}} } & = & -\\frac{e^{\\left(\\Gamma\\left(r\\right) - \\Lambda\\left(r\\right)\\right)} \\frac{\\partial\\,\\Gamma}{\\partial r}}{2 \\, r} \\\\ \\mathrm{Riem}\\left(g\\right)_{ \\phantom{\\, {\\theta}} \\, r \\, r \\, {\\theta} }^{ \\, {\\theta} \\phantom{\\, r} \\phantom{\\, r} \\phantom{\\, {\\theta}} } & = & -\\frac{\\frac{\\partial\\,\\Lambda}{\\partial r}}{2 \\, r} \\\\ \\mathrm{Riem}\\left(g\\right)_{ \\phantom{\\, {\\theta}} \\, {\\varphi} \\, {\\theta} \\, {\\varphi} }^{ \\, {\\theta} \\phantom{\\, {\\varphi}} \\phantom{\\, {\\theta}} \\phantom{\\, {\\varphi}} } & = & {\\left(e^{\\Lambda\\left(r\\right)} - 1\\right)} e^{\\left(-\\Lambda\\left(r\\right)\\right)} \\sin\\left({\\theta}\\right)^{2} \\\\ \\mathrm{Riem}\\left(g\\right)_{ \\phantom{\\, {\\varphi}} \\, t \\, t \\, {\\varphi} }^{ \\, {\\varphi} \\phantom{\\, t} \\phantom{\\, t} \\phantom{\\, {\\varphi}} } & = & -\\frac{e^{\\left(\\Gamma\\left(r\\right) - \\Lambda\\left(r\\right)\\right)} \\frac{\\partial\\,\\Gamma}{\\partial r}}{2 \\, r} \\\\ \\mathrm{Riem}\\left(g\\right)_{ \\phantom{\\, {\\varphi}} \\, r \\, r \\, {\\varphi} }^{ \\, {\\varphi} \\phantom{\\, r} \\phantom{\\, r} \\phantom{\\, {\\varphi}} } & = & -\\frac{\\frac{\\partial\\,\\Lambda}{\\partial r}}{2 \\, r} \\\\ \\mathrm{Riem}\\left(g\\right)_{ \\phantom{\\, {\\varphi}} \\, {\\theta} \\, {\\theta} \\, {\\varphi} }^{ \\, {\\varphi} \\phantom{\\, {\\theta}} \\phantom{\\, {\\theta}} \\phantom{\\, {\\varphi}} } & = & -{\\left(e^{\\Lambda\\left(r\\right)} - 1\\right)} e^{\\left(-\\Lambda\\left(r\\right)\\right)} \\end{array}</script></html>"
      ],
      "text/latex": [
       "$$\\newcommand{\\Bold}[1]{\\mathbf{#1}}\\begin{array}{lcl} \\mathrm{Riem}\\left(g\\right)_{ \\phantom{\\, t} \\, r \\, t \\, r }^{ \\, t \\phantom{\\, r} \\phantom{\\, t} \\phantom{\\, r} } & = & -\\frac{1}{4} \\, \\left(\\frac{\\partial\\,\\Gamma}{\\partial r}\\right)^{2} + \\frac{1}{4} \\, \\frac{\\partial\\,\\Gamma}{\\partial r} \\frac{\\partial\\,\\Lambda}{\\partial r} - \\frac{1}{2} \\, \\frac{\\partial^2\\,\\Gamma}{\\partial r ^ 2} \\\\ \\mathrm{Riem}\\left(g\\right)_{ \\phantom{\\, t} \\, {\\theta} \\, t \\, {\\theta} }^{ \\, t \\phantom{\\, {\\theta}} \\phantom{\\, t} \\phantom{\\, {\\theta}} } & = & -\\frac{1}{2} \\, r e^{\\left(-\\Lambda\\left(r\\right)\\right)} \\frac{\\partial\\,\\Gamma}{\\partial r} \\\\ \\mathrm{Riem}\\left(g\\right)_{ \\phantom{\\, t} \\, {\\varphi} \\, t \\, {\\varphi} }^{ \\, t \\phantom{\\, {\\varphi}} \\phantom{\\, t} \\phantom{\\, {\\varphi}} } & = & -\\frac{1}{2} \\, r e^{\\left(-\\Lambda\\left(r\\right)\\right)} \\sin\\left({\\theta}\\right)^{2} \\frac{\\partial\\,\\Gamma}{\\partial r} \\\\ \\mathrm{Riem}\\left(g\\right)_{ \\phantom{\\, r} \\, t \\, t \\, r }^{ \\, r \\phantom{\\, t} \\phantom{\\, t} \\phantom{\\, r} } & = & -\\frac{1}{4} \\, {\\left(e^{\\Gamma\\left(r\\right)} \\left(\\frac{\\partial\\,\\Gamma}{\\partial r}\\right)^{2} - e^{\\Gamma\\left(r\\right)} \\frac{\\partial\\,\\Gamma}{\\partial r} \\frac{\\partial\\,\\Lambda}{\\partial r} + 2 \\, e^{\\Gamma\\left(r\\right)} \\frac{\\partial^2\\,\\Gamma}{\\partial r ^ 2}\\right)} e^{\\left(-\\Lambda\\left(r\\right)\\right)} \\\\ \\mathrm{Riem}\\left(g\\right)_{ \\phantom{\\, r} \\, {\\theta} \\, r \\, {\\theta} }^{ \\, r \\phantom{\\, {\\theta}} \\phantom{\\, r} \\phantom{\\, {\\theta}} } & = & \\frac{1}{2} \\, r e^{\\left(-\\Lambda\\left(r\\right)\\right)} \\frac{\\partial\\,\\Lambda}{\\partial r} \\\\ \\mathrm{Riem}\\left(g\\right)_{ \\phantom{\\, r} \\, {\\varphi} \\, r \\, {\\varphi} }^{ \\, r \\phantom{\\, {\\varphi}} \\phantom{\\, r} \\phantom{\\, {\\varphi}} } & = & \\frac{1}{2} \\, r e^{\\left(-\\Lambda\\left(r\\right)\\right)} \\sin\\left({\\theta}\\right)^{2} \\frac{\\partial\\,\\Lambda}{\\partial r} \\\\ \\mathrm{Riem}\\left(g\\right)_{ \\phantom{\\, {\\theta}} \\, t \\, t \\, {\\theta} }^{ \\, {\\theta} \\phantom{\\, t} \\phantom{\\, t} \\phantom{\\, {\\theta}} } & = & -\\frac{e^{\\left(\\Gamma\\left(r\\right) - \\Lambda\\left(r\\right)\\right)} \\frac{\\partial\\,\\Gamma}{\\partial r}}{2 \\, r} \\\\ \\mathrm{Riem}\\left(g\\right)_{ \\phantom{\\, {\\theta}} \\, r \\, r \\, {\\theta} }^{ \\, {\\theta} \\phantom{\\, r} \\phantom{\\, r} \\phantom{\\, {\\theta}} } & = & -\\frac{\\frac{\\partial\\,\\Lambda}{\\partial r}}{2 \\, r} \\\\ \\mathrm{Riem}\\left(g\\right)_{ \\phantom{\\, {\\theta}} \\, {\\varphi} \\, {\\theta} \\, {\\varphi} }^{ \\, {\\theta} \\phantom{\\, {\\varphi}} \\phantom{\\, {\\theta}} \\phantom{\\, {\\varphi}} } & = & {\\left(e^{\\Lambda\\left(r\\right)} - 1\\right)} e^{\\left(-\\Lambda\\left(r\\right)\\right)} \\sin\\left({\\theta}\\right)^{2} \\\\ \\mathrm{Riem}\\left(g\\right)_{ \\phantom{\\, {\\varphi}} \\, t \\, t \\, {\\varphi} }^{ \\, {\\varphi} \\phantom{\\, t} \\phantom{\\, t} \\phantom{\\, {\\varphi}} } & = & -\\frac{e^{\\left(\\Gamma\\left(r\\right) - \\Lambda\\left(r\\right)\\right)} \\frac{\\partial\\,\\Gamma}{\\partial r}}{2 \\, r} \\\\ \\mathrm{Riem}\\left(g\\right)_{ \\phantom{\\, {\\varphi}} \\, r \\, r \\, {\\varphi} }^{ \\, {\\varphi} \\phantom{\\, r} \\phantom{\\, r} \\phantom{\\, {\\varphi}} } & = & -\\frac{\\frac{\\partial\\,\\Lambda}{\\partial r}}{2 \\, r} \\\\ \\mathrm{Riem}\\left(g\\right)_{ \\phantom{\\, {\\varphi}} \\, {\\theta} \\, {\\theta} \\, {\\varphi} }^{ \\, {\\varphi} \\phantom{\\, {\\theta}} \\phantom{\\, {\\theta}} \\phantom{\\, {\\varphi}} } & = & -{\\left(e^{\\Lambda\\left(r\\right)} - 1\\right)} e^{\\left(-\\Lambda\\left(r\\right)\\right)} \\end{array}$$"
      ],
      "text/plain": [
       "Riem(g)^t_r,t,r = -1/4*(d(gamm)/dr)^2 + 1/4*d(gamm)/dr*d(lamb)/dr - 1/2*d^2(gamm)/dr^2 \n",
       "Riem(g)^t_th,t,th = -1/2*r*e^(-lamb(r))*d(gamm)/dr \n",
       "Riem(g)^t_ph,t,ph = -1/2*r*e^(-lamb(r))*sin(th)^2*d(gamm)/dr \n",
       "Riem(g)^r_t,t,r = -1/4*(e^gamm(r)*(d(gamm)/dr)^2 - e^gamm(r)*d(gamm)/dr*d(lamb)/dr + 2*e^gamm(r)*d^2(gamm)/dr^2)*e^(-lamb(r)) \n",
       "Riem(g)^r_th,r,th = 1/2*r*e^(-lamb(r))*d(lamb)/dr \n",
       "Riem(g)^r_ph,r,ph = 1/2*r*e^(-lamb(r))*sin(th)^2*d(lamb)/dr \n",
       "Riem(g)^th_t,t,th = -1/2*e^(gamm(r) - lamb(r))*d(gamm)/dr/r \n",
       "Riem(g)^th_r,r,th = -1/2*d(lamb)/dr/r \n",
       "Riem(g)^th_ph,th,ph = (e^lamb(r) - 1)*e^(-lamb(r))*sin(th)^2 \n",
       "Riem(g)^ph_t,t,ph = -1/2*e^(gamm(r) - lamb(r))*d(gamm)/dr/r \n",
       "Riem(g)^ph_r,r,ph = -1/2*d(lamb)/dr/r \n",
       "Riem(g)^ph_th,th,ph = -(e^lamb(r) - 1)*e^(-lamb(r)) "
      ]
     },
     "execution_count": 8,
     "metadata": {},
     "output_type": "execute_result"
    }
   ],
   "source": [
    "#Cálculo de las componentes del tensor de Riemann\n",
    "Riem = g.riemann()\n",
    "Riemdown = Riem.down(g) #bajando todos los indices\n",
    "Riemup = Riem.up(g)     #subiendo todos los indices\n",
    "Riem.display_comp(only_nonredundant=True)"
   ]
  },
  {
   "cell_type": "code",
   "execution_count": 9,
   "metadata": {},
   "outputs": [
    {
     "data": {
      "text/html": [
       "<html><script type=\"math/tex; mode=display\">\\newcommand{\\Bold}[1]{\\mathbf{#1}}\\begin{array}{lcl} \\mathrm{Ric}\\left(g\\right)_{ \\, t \\, t }^{ \\phantom{\\, t}\\phantom{\\, t} } & = & \\frac{{\\left(r e^{\\Gamma\\left(r\\right)} \\left(\\frac{\\partial\\,\\Gamma}{\\partial r}\\right)^{2} - r e^{\\Gamma\\left(r\\right)} \\frac{\\partial\\,\\Gamma}{\\partial r} \\frac{\\partial\\,\\Lambda}{\\partial r} + 2 \\, r e^{\\Gamma\\left(r\\right)} \\frac{\\partial^2\\,\\Gamma}{\\partial r ^ 2} + 4 \\, e^{\\Gamma\\left(r\\right)} \\frac{\\partial\\,\\Gamma}{\\partial r}\\right)} e^{\\left(-\\Lambda\\left(r\\right)\\right)}}{4 \\, r} \\\\ \\mathrm{Ric}\\left(g\\right)_{ \\, r \\, r }^{ \\phantom{\\, r}\\phantom{\\, r} } & = & -\\frac{r \\left(\\frac{\\partial\\,\\Gamma}{\\partial r}\\right)^{2} + 2 \\, r \\frac{\\partial^2\\,\\Gamma}{\\partial r ^ 2} - {\\left(r \\frac{\\partial\\,\\Gamma}{\\partial r} + 4\\right)} \\frac{\\partial\\,\\Lambda}{\\partial r}}{4 \\, r} \\\\ \\mathrm{Ric}\\left(g\\right)_{ \\, {\\theta} \\, {\\theta} }^{ \\phantom{\\, {\\theta}}\\phantom{\\, {\\theta}} } & = & -\\frac{1}{2} \\, {\\left(r \\frac{\\partial\\,\\Gamma}{\\partial r} - r \\frac{\\partial\\,\\Lambda}{\\partial r} - 2 \\, e^{\\Lambda\\left(r\\right)} + 2\\right)} e^{\\left(-\\Lambda\\left(r\\right)\\right)} \\\\ \\mathrm{Ric}\\left(g\\right)_{ \\, {\\varphi} \\, {\\varphi} }^{ \\phantom{\\, {\\varphi}}\\phantom{\\, {\\varphi}} } & = & -\\frac{1}{2} \\, {\\left(r \\frac{\\partial\\,\\Gamma}{\\partial r} - r \\frac{\\partial\\,\\Lambda}{\\partial r} - 2 \\, e^{\\Lambda\\left(r\\right)} + 2\\right)} e^{\\left(-\\Lambda\\left(r\\right)\\right)} \\sin\\left({\\theta}\\right)^{2} \\end{array}</script></html>"
      ],
      "text/latex": [
       "$$\\newcommand{\\Bold}[1]{\\mathbf{#1}}\\begin{array}{lcl} \\mathrm{Ric}\\left(g\\right)_{ \\, t \\, t }^{ \\phantom{\\, t}\\phantom{\\, t} } & = & \\frac{{\\left(r e^{\\Gamma\\left(r\\right)} \\left(\\frac{\\partial\\,\\Gamma}{\\partial r}\\right)^{2} - r e^{\\Gamma\\left(r\\right)} \\frac{\\partial\\,\\Gamma}{\\partial r} \\frac{\\partial\\,\\Lambda}{\\partial r} + 2 \\, r e^{\\Gamma\\left(r\\right)} \\frac{\\partial^2\\,\\Gamma}{\\partial r ^ 2} + 4 \\, e^{\\Gamma\\left(r\\right)} \\frac{\\partial\\,\\Gamma}{\\partial r}\\right)} e^{\\left(-\\Lambda\\left(r\\right)\\right)}}{4 \\, r} \\\\ \\mathrm{Ric}\\left(g\\right)_{ \\, r \\, r }^{ \\phantom{\\, r}\\phantom{\\, r} } & = & -\\frac{r \\left(\\frac{\\partial\\,\\Gamma}{\\partial r}\\right)^{2} + 2 \\, r \\frac{\\partial^2\\,\\Gamma}{\\partial r ^ 2} - {\\left(r \\frac{\\partial\\,\\Gamma}{\\partial r} + 4\\right)} \\frac{\\partial\\,\\Lambda}{\\partial r}}{4 \\, r} \\\\ \\mathrm{Ric}\\left(g\\right)_{ \\, {\\theta} \\, {\\theta} }^{ \\phantom{\\, {\\theta}}\\phantom{\\, {\\theta}} } & = & -\\frac{1}{2} \\, {\\left(r \\frac{\\partial\\,\\Gamma}{\\partial r} - r \\frac{\\partial\\,\\Lambda}{\\partial r} - 2 \\, e^{\\Lambda\\left(r\\right)} + 2\\right)} e^{\\left(-\\Lambda\\left(r\\right)\\right)} \\\\ \\mathrm{Ric}\\left(g\\right)_{ \\, {\\varphi} \\, {\\varphi} }^{ \\phantom{\\, {\\varphi}}\\phantom{\\, {\\varphi}} } & = & -\\frac{1}{2} \\, {\\left(r \\frac{\\partial\\,\\Gamma}{\\partial r} - r \\frac{\\partial\\,\\Lambda}{\\partial r} - 2 \\, e^{\\Lambda\\left(r\\right)} + 2\\right)} e^{\\left(-\\Lambda\\left(r\\right)\\right)} \\sin\\left({\\theta}\\right)^{2} \\end{array}$$"
      ],
      "text/plain": [
       "Ric(g)_t,t = 1/4*(r*e^gamm(r)*(d(gamm)/dr)^2 - r*e^gamm(r)*d(gamm)/dr*d(lamb)/dr + 2*r*e^gamm(r)*d^2(gamm)/dr^2 + 4*e^gamm(r)*d(gamm)/dr)*e^(-lamb(r))/r \n",
       "Ric(g)_r,r = -1/4*(r*(d(gamm)/dr)^2 + 2*r*d^2(gamm)/dr^2 - (r*d(gamm)/dr + 4)*d(lamb)/dr)/r \n",
       "Ric(g)_th,th = -1/2*(r*d(gamm)/dr - r*d(lamb)/dr - 2*e^lamb(r) + 2)*e^(-lamb(r)) \n",
       "Ric(g)_ph,ph = -1/2*(r*d(gamm)/dr - r*d(lamb)/dr - 2*e^lamb(r) + 2)*e^(-lamb(r))*sin(th)^2 "
      ]
     },
     "execution_count": 9,
     "metadata": {},
     "output_type": "execute_result"
    }
   ],
   "source": [
    "#Cálculo de las componentes del tensor de Ricci\n",
    "Ricdown = g.ricci()\n",
    "Ricup=Ricdown.up(g) #subiendo todos los índices\n",
    "Ricdown.display_comp()"
   ]
  },
  {
   "cell_type": "code",
   "execution_count": 10,
   "metadata": {
    "scrolled": true
   },
   "outputs": [
    {
     "data": {
      "text/html": [
       "<script type=\"math/tex\">R = -\\frac{{\\left(r^{2} \\frac{\\partial}{\\partial r}\\Gamma\\left(r\\right)^{2} + 2 \\, r^{2} \\frac{\\partial^{2}}{(\\partial r)^{2}}\\Gamma\\left(r\\right) + 4 \\, r \\frac{\\partial}{\\partial r}\\Gamma\\left(r\\right) - {\\left(r^{2} \\frac{\\partial}{\\partial r}\\Gamma\\left(r\\right) + 4 \\, r\\right)} \\frac{\\partial}{\\partial r}\\Lambda\\left(r\\right) - 4 \\, e^{\\Lambda\\left(r\\right)} + 4\\right)} e^{\\left(-\\Lambda\\left(r\\right)\\right)}}{2 \\, r^{2}}</script>"
      ],
      "text/plain": [
       "'$R = -\\\\frac{{\\\\left(r^{2} \\\\frac{\\\\partial}{\\\\partial r}\\\\Gamma\\\\left(r\\\\right)^{2} + 2 \\\\, r^{2} \\\\frac{\\\\partial^{2}}{(\\\\partial r)^{2}}\\\\Gamma\\\\left(r\\\\right) + 4 \\\\, r \\\\frac{\\\\partial}{\\\\partial r}\\\\Gamma\\\\left(r\\\\right) - {\\\\left(r^{2} \\\\frac{\\\\partial}{\\\\partial r}\\\\Gamma\\\\left(r\\\\right) + 4 \\\\, r\\\\right)} \\\\frac{\\\\partial}{\\\\partial r}\\\\Lambda\\\\left(r\\\\right) - 4 \\\\, e^{\\\\Lambda\\\\left(r\\\\right)} + 4\\\\right)} e^{\\\\left(-\\\\Lambda\\\\left(r\\\\right)\\\\right)}}{2 \\\\, r^{2}}'"
      ]
     },
     "metadata": {},
     "output_type": "display_data"
    }
   ],
   "source": [
    "#Cálculo del escalar de Ricci\n",
    "R = (g.ricci_scalar()).expr()\n",
    "show('$R = %s' %(latex(R)))"
   ]
  },
  {
   "cell_type": "code",
   "execution_count": 11,
   "metadata": {},
   "outputs": [
    {
     "data": {
      "text/html": [
       "<script type=\"math/tex\">R^2_{GB}=-\\frac{2 \\, {\\left({\\left(e^{\\Lambda\\left(r\\right)} - 1\\right)} \\frac{\\partial}{\\partial r}\\Gamma\\left(r\\right)^{2} - {\\left(e^{\\Lambda\\left(r\\right)} - 3\\right)} \\frac{\\partial}{\\partial r}\\Gamma\\left(r\\right) \\frac{\\partial}{\\partial r}\\Lambda\\left(r\\right) + 2 \\, {\\left(e^{\\Lambda\\left(r\\right)} - 1\\right)} \\frac{\\partial^{2}}{(\\partial r)^{2}}\\Gamma\\left(r\\right)\\right)} e^{\\left(-2 \\, \\Lambda\\left(r\\right)\\right)}}{r^{2}}</script>"
      ],
      "text/plain": [
       "'$R^2_{GB}=-\\\\frac{2 \\\\, {\\\\left({\\\\left(e^{\\\\Lambda\\\\left(r\\\\right)} - 1\\\\right)} \\\\frac{\\\\partial}{\\\\partial r}\\\\Gamma\\\\left(r\\\\right)^{2} - {\\\\left(e^{\\\\Lambda\\\\left(r\\\\right)} - 3\\\\right)} \\\\frac{\\\\partial}{\\\\partial r}\\\\Gamma\\\\left(r\\\\right) \\\\frac{\\\\partial}{\\\\partial r}\\\\Lambda\\\\left(r\\\\right) + 2 \\\\, {\\\\left(e^{\\\\Lambda\\\\left(r\\\\right)} - 1\\\\right)} \\\\frac{\\\\partial^{2}}{(\\\\partial r)^{2}}\\\\Gamma\\\\left(r\\\\right)\\\\right)} e^{\\\\left(-2 \\\\, \\\\Lambda\\\\left(r\\\\right)\\\\right)}}{r^{2}}'"
      ]
     },
     "metadata": {},
     "output_type": "display_data"
    }
   ],
   "source": [
    "#Cálculo del término de Gauss-Bonnet\n",
    "R2GB = (Riemdown['_{abcd}']*Riemup['^{abcd}']-4*Ricdown['_{ab}']*Ricup['^{ab}']+R^2).expr()\n",
    "show('$R^2_{GB}=%s' %(latex(R2GB)))"
   ]
  },
  {
   "cell_type": "code",
   "execution_count": 12,
   "metadata": {},
   "outputs": [
    {
     "data": {
      "text/html": [
       "<html><script type=\"math/tex; mode=display\">\\newcommand{\\Bold}[1]{\\mathbf{#1}}\\begin{array}{lcl} G_{ \\, t \\, t }^{ \\phantom{\\, t}\\phantom{\\, t} } & = & \\frac{{\\left(4.0 \\, r e^{\\Gamma\\left(r\\right)} \\frac{\\partial\\,\\Lambda}{\\partial r} + 4.0 \\, e^{\\left(\\Gamma\\left(r\\right) + \\Lambda\\left(r\\right)\\right)} - 4.0 \\, e^{\\Gamma\\left(r\\right)}\\right)} e^{\\left(-\\Lambda\\left(r\\right)\\right)}}{4 \\, r^{2}} \\\\ G_{ \\, r \\, r }^{ \\phantom{\\, r}\\phantom{\\, r} } & = & \\frac{4.0 \\, r \\frac{\\partial\\,\\Gamma}{\\partial r} - 4.0 \\, e^{\\Lambda\\left(r\\right)} + 4.0}{4 \\, r^{2}} \\\\ G_{ \\, {\\theta} \\, {\\theta} }^{ \\phantom{\\, {\\theta}}\\phantom{\\, {\\theta}} } & = & -\\frac{1}{2} \\, {\\left(-0.5 \\, r^{2} \\left(\\frac{\\partial\\,\\Gamma}{\\partial r}\\right)^{2} - 1.0 \\, r^{2} \\frac{\\partial^2\\,\\Gamma}{\\partial r ^ 2} - 1.0 \\, r \\frac{\\partial\\,\\Gamma}{\\partial r} + {\\left(0.5 \\, r^{2} \\frac{\\partial\\,\\Gamma}{\\partial r} + 1.0 \\, r\\right)} \\frac{\\partial\\,\\Lambda}{\\partial r}\\right)} e^{\\left(-\\Lambda\\left(r\\right)\\right)} \\\\ G_{ \\, {\\varphi} \\, {\\varphi} }^{ \\phantom{\\, {\\varphi}}\\phantom{\\, {\\varphi}} } & = & -\\frac{1}{2} \\, {\\left(-0.5 \\, r^{2} \\left(\\frac{\\partial\\,\\Gamma}{\\partial r}\\right)^{2} - 1.0 \\, r^{2} \\frac{\\partial^2\\,\\Gamma}{\\partial r ^ 2} - 1.0 \\, r \\frac{\\partial\\,\\Gamma}{\\partial r} + {\\left(0.5 \\, r^{2} \\frac{\\partial\\,\\Gamma}{\\partial r} + 1.0 \\, r\\right)} \\frac{\\partial\\,\\Lambda}{\\partial r}\\right)} e^{\\left(-\\Lambda\\left(r\\right)\\right)} \\sin\\left({\\theta}\\right)^{2} \\end{array}</script></html>"
      ],
      "text/latex": [
       "$$\\newcommand{\\Bold}[1]{\\mathbf{#1}}\\begin{array}{lcl} G_{ \\, t \\, t }^{ \\phantom{\\, t}\\phantom{\\, t} } & = & \\frac{{\\left(4.0 \\, r e^{\\Gamma\\left(r\\right)} \\frac{\\partial\\,\\Lambda}{\\partial r} + 4.0 \\, e^{\\left(\\Gamma\\left(r\\right) + \\Lambda\\left(r\\right)\\right)} - 4.0 \\, e^{\\Gamma\\left(r\\right)}\\right)} e^{\\left(-\\Lambda\\left(r\\right)\\right)}}{4 \\, r^{2}} \\\\ G_{ \\, r \\, r }^{ \\phantom{\\, r}\\phantom{\\, r} } & = & \\frac{4.0 \\, r \\frac{\\partial\\,\\Gamma}{\\partial r} - 4.0 \\, e^{\\Lambda\\left(r\\right)} + 4.0}{4 \\, r^{2}} \\\\ G_{ \\, {\\theta} \\, {\\theta} }^{ \\phantom{\\, {\\theta}}\\phantom{\\, {\\theta}} } & = & -\\frac{1}{2} \\, {\\left(-0.5 \\, r^{2} \\left(\\frac{\\partial\\,\\Gamma}{\\partial r}\\right)^{2} - 1.0 \\, r^{2} \\frac{\\partial^2\\,\\Gamma}{\\partial r ^ 2} - 1.0 \\, r \\frac{\\partial\\,\\Gamma}{\\partial r} + {\\left(0.5 \\, r^{2} \\frac{\\partial\\,\\Gamma}{\\partial r} + 1.0 \\, r\\right)} \\frac{\\partial\\,\\Lambda}{\\partial r}\\right)} e^{\\left(-\\Lambda\\left(r\\right)\\right)} \\\\ G_{ \\, {\\varphi} \\, {\\varphi} }^{ \\phantom{\\, {\\varphi}}\\phantom{\\, {\\varphi}} } & = & -\\frac{1}{2} \\, {\\left(-0.5 \\, r^{2} \\left(\\frac{\\partial\\,\\Gamma}{\\partial r}\\right)^{2} - 1.0 \\, r^{2} \\frac{\\partial^2\\,\\Gamma}{\\partial r ^ 2} - 1.0 \\, r \\frac{\\partial\\,\\Gamma}{\\partial r} + {\\left(0.5 \\, r^{2} \\frac{\\partial\\,\\Gamma}{\\partial r} + 1.0 \\, r\\right)} \\frac{\\partial\\,\\Lambda}{\\partial r}\\right)} e^{\\left(-\\Lambda\\left(r\\right)\\right)} \\sin\\left({\\theta}\\right)^{2} \\end{array}$$"
      ],
      "text/plain": [
       "G_t,t = 1/4*(4.0*r*e^gamm(r)*d(lamb)/dr + 4.0*e^(gamm(r) + lamb(r)) - 4.0*e^gamm(r))*e^(-lamb(r))/r^2 \n",
       "G_r,r = 1/4*(4.0*r*d(gamm)/dr - 4.0*e^lamb(r) + 4.0)/r^2 \n",
       "G_th,th = -1/2*(-0.5*r^2*(d(gamm)/dr)^2 - 1.0*r^2*d^2(gamm)/dr^2 - 1.0*r*d(gamm)/dr + (0.5*r^2*d(gamm)/dr + 1.0*r)*d(lamb)/dr)*e^(-lamb(r)) \n",
       "G_ph,ph = -1/2*(-0.5*r^2*(d(gamm)/dr)^2 - 1.0*r^2*d^2(gamm)/dr^2 - 1.0*r*d(gamm)/dr + (0.5*r^2*d(gamm)/dr + 1.0*r)*d(lamb)/dr)*e^(-lamb(r))*sin(th)^2 "
      ]
     },
     "execution_count": 12,
     "metadata": {},
     "output_type": "execute_result"
    }
   ],
   "source": [
    "#Cálculo del tensor de Einstein\n",
    "G=Ricdown-0.5*R*g\n",
    "G.set_name('G') ;\n",
    "G.display_comp(only_nonredundant=True)"
   ]
  },
  {
   "cell_type": "code",
   "execution_count": 13,
   "metadata": {},
   "outputs": [
    {
     "data": {
      "text/html": [
       "<html><script type=\"math/tex; mode=display\">\\newcommand{\\Bold}[1]{\\mathbf{#1}}</script></html>"
      ],
      "text/latex": [
       "$$\\newcommand{\\Bold}[1]{\\mathbf{#1}}$$"
      ],
      "text/plain": []
     },
     "execution_count": 13,
     "metadata": {},
     "output_type": "execute_result"
    }
   ],
   "source": [
    "#Cálculo del tensor H\n",
    "Ricud=Ricup['^{bc}']*g['_{cd}']\n",
    "Riemduuu=g['_{ab}']*Riemup['^{bcde}']\n",
    "H=2*(R*Ricdown-2*Ricdown['_{ac}']*Ricud['^c_b']-2*Ricup['^{cd}']*Riemdown['_{acbd}']+Riemduuu['_a^{bcd}']*Riemdown['_{ebcd}'])-1/2*g*R2GB\n",
    "H.set_name('H') ;\n",
    "H.display_comp(only_nonredundant=True)"
   ]
  },
  {
   "cell_type": "code",
   "execution_count": 14,
   "metadata": {
    "scrolled": false
   },
   "outputs": [
    {
     "data": {
      "text/html": [
       "<html><script type=\"math/tex; mode=display\">\\newcommand{\\Bold}[1]{\\mathbf{#1}}\\begin{array}{lcl} P_{ \\, t \\, t \\, r \\, r }^{ \\phantom{\\, t}\\phantom{\\, t}\\phantom{\\, r}\\phantom{\\, r} } & = & \\frac{5 \\, r^{2} e^{\\Gamma\\left(r\\right)} \\left(\\frac{\\partial\\,\\Gamma}{\\partial r}\\right)^{2} + 10 \\, r^{2} e^{\\Gamma\\left(r\\right)} \\frac{\\partial^2\\,\\Gamma}{\\partial r ^ 2} + 8 \\, r e^{\\Gamma\\left(r\\right)} \\frac{\\partial\\,\\Gamma}{\\partial r} - 5 \\, {\\left(r^{2} e^{\\Gamma\\left(r\\right)} \\frac{\\partial\\,\\Gamma}{\\partial r} + 4 \\, r e^{\\Gamma\\left(r\\right)}\\right)} \\frac{\\partial\\,\\Lambda}{\\partial r} - 8 \\, e^{\\left(\\Gamma\\left(r\\right) + \\Lambda\\left(r\\right)\\right)} + 8 \\, e^{\\Gamma\\left(r\\right)}}{8 \\, r^{2}} \\\\ P_{ \\, t \\, t \\, {\\theta} \\, {\\theta} }^{ \\phantom{\\, t}\\phantom{\\, t}\\phantom{\\, {\\theta}}\\phantom{\\, {\\theta}} } & = & \\frac{1}{4} \\, {\\left(r^{2} e^{\\Gamma\\left(r\\right)} \\left(\\frac{\\partial\\,\\Gamma}{\\partial r}\\right)^{2} + 2 \\, r^{2} e^{\\Gamma\\left(r\\right)} \\frac{\\partial^2\\,\\Gamma}{\\partial r ^ 2} + 7 \\, r e^{\\Gamma\\left(r\\right)} \\frac{\\partial\\,\\Gamma}{\\partial r} - {\\left(r^{2} e^{\\Gamma\\left(r\\right)} \\frac{\\partial\\,\\Gamma}{\\partial r} + 7 \\, r e^{\\Gamma\\left(r\\right)}\\right)} \\frac{\\partial\\,\\Lambda}{\\partial r} - 10 \\, e^{\\left(\\Gamma\\left(r\\right) + \\Lambda\\left(r\\right)\\right)} + 10 \\, e^{\\Gamma\\left(r\\right)}\\right)} e^{\\left(-\\Lambda\\left(r\\right)\\right)} \\\\ P_{ \\, t \\, t \\, {\\varphi} \\, {\\varphi} }^{ \\phantom{\\, t}\\phantom{\\, t}\\phantom{\\, {\\varphi}}\\phantom{\\, {\\varphi}} } & = & \\frac{1}{4} \\, {\\left(r^{2} e^{\\Gamma\\left(r\\right)} \\left(\\frac{\\partial\\,\\Gamma}{\\partial r}\\right)^{2} + 2 \\, r^{2} e^{\\Gamma\\left(r\\right)} \\frac{\\partial^2\\,\\Gamma}{\\partial r ^ 2} + 7 \\, r e^{\\Gamma\\left(r\\right)} \\frac{\\partial\\,\\Gamma}{\\partial r} - {\\left(r^{2} e^{\\Gamma\\left(r\\right)} \\frac{\\partial\\,\\Gamma}{\\partial r} + 7 \\, r e^{\\Gamma\\left(r\\right)}\\right)} \\frac{\\partial\\,\\Lambda}{\\partial r} - 10 \\, e^{\\left(\\Gamma\\left(r\\right) + \\Lambda\\left(r\\right)\\right)} + 10 \\, e^{\\Gamma\\left(r\\right)}\\right)} e^{\\left(-\\Lambda\\left(r\\right)\\right)} \\sin\\left({\\theta}\\right)^{2} \\\\ P_{ \\, t \\, r \\, t \\, r }^{ \\phantom{\\, t}\\phantom{\\, r}\\phantom{\\, t}\\phantom{\\, r} } & = & -\\frac{3 \\, r^{2} e^{\\Gamma\\left(r\\right)} \\left(\\frac{\\partial\\,\\Gamma}{\\partial r}\\right)^{2} + 6 \\, r^{2} e^{\\Gamma\\left(r\\right)} \\frac{\\partial^2\\,\\Gamma}{\\partial r ^ 2} + 8 \\, r e^{\\Gamma\\left(r\\right)} \\frac{\\partial\\,\\Gamma}{\\partial r} - {\\left(3 \\, r^{2} e^{\\Gamma\\left(r\\right)} \\frac{\\partial\\,\\Gamma}{\\partial r} + 20 \\, r e^{\\Gamma\\left(r\\right)}\\right)} \\frac{\\partial\\,\\Lambda}{\\partial r} - 8 \\, e^{\\left(\\Gamma\\left(r\\right) + \\Lambda\\left(r\\right)\\right)} + 8 \\, e^{\\Gamma\\left(r\\right)}}{8 \\, r^{2}} \\\\ P_{ \\, t \\, r \\, r \\, t }^{ \\phantom{\\, t}\\phantom{\\, r}\\phantom{\\, r}\\phantom{\\, t} } & = & -\\frac{1}{4} \\, e^{\\Gamma\\left(r\\right)} \\left(\\frac{\\partial\\,\\Gamma}{\\partial r}\\right)^{2} + \\frac{1}{4} \\, e^{\\Gamma\\left(r\\right)} \\frac{\\partial\\,\\Gamma}{\\partial r} \\frac{\\partial\\,\\Lambda}{\\partial r} - \\frac{1}{2} \\, e^{\\Gamma\\left(r\\right)} \\frac{\\partial^2\\,\\Gamma}{\\partial r ^ 2} \\\\ P_{ \\, t \\, {\\theta} \\, t \\, {\\theta} }^{ \\phantom{\\, t}\\phantom{\\, {\\theta}}\\phantom{\\, t}\\phantom{\\, {\\theta}} } & = & -\\frac{1}{4} \\, {\\left(r^{2} e^{\\Gamma\\left(r\\right)} \\left(\\frac{\\partial\\,\\Gamma}{\\partial r}\\right)^{2} + 2 \\, r^{2} e^{\\Gamma\\left(r\\right)} \\frac{\\partial^2\\,\\Gamma}{\\partial r ^ 2} + 5 \\, r e^{\\Gamma\\left(r\\right)} \\frac{\\partial\\,\\Gamma}{\\partial r} - {\\left(r^{2} e^{\\Gamma\\left(r\\right)} \\frac{\\partial\\,\\Gamma}{\\partial r} + 7 \\, r e^{\\Gamma\\left(r\\right)}\\right)} \\frac{\\partial\\,\\Lambda}{\\partial r} - 10 \\, e^{\\left(\\Gamma\\left(r\\right) + \\Lambda\\left(r\\right)\\right)} + 10 \\, e^{\\Gamma\\left(r\\right)}\\right)} e^{\\left(-\\Lambda\\left(r\\right)\\right)} \\\\ P_{ \\, t \\, {\\theta} \\, {\\theta} \\, t }^{ \\phantom{\\, t}\\phantom{\\, {\\theta}}\\phantom{\\, {\\theta}}\\phantom{\\, t} } & = & -\\frac{1}{2} \\, r e^{\\left(\\Gamma\\left(r\\right) - \\Lambda\\left(r\\right)\\right)} \\frac{\\partial\\,\\Gamma}{\\partial r} \\\\ P_{ \\, t \\, {\\varphi} \\, t \\, {\\varphi} }^{ \\phantom{\\, t}\\phantom{\\, {\\varphi}}\\phantom{\\, t}\\phantom{\\, {\\varphi}} } & = & -\\frac{1}{4} \\, {\\left(r^{2} e^{\\Gamma\\left(r\\right)} \\left(\\frac{\\partial\\,\\Gamma}{\\partial r}\\right)^{2} + 2 \\, r^{2} e^{\\Gamma\\left(r\\right)} \\frac{\\partial^2\\,\\Gamma}{\\partial r ^ 2} + 5 \\, r e^{\\Gamma\\left(r\\right)} \\frac{\\partial\\,\\Gamma}{\\partial r} - {\\left(r^{2} e^{\\Gamma\\left(r\\right)} \\frac{\\partial\\,\\Gamma}{\\partial r} + 7 \\, r e^{\\Gamma\\left(r\\right)}\\right)} \\frac{\\partial\\,\\Lambda}{\\partial r} - 10 \\, e^{\\left(\\Gamma\\left(r\\right) + \\Lambda\\left(r\\right)\\right)} + 10 \\, e^{\\Gamma\\left(r\\right)}\\right)} e^{\\left(-\\Lambda\\left(r\\right)\\right)} \\sin\\left({\\theta}\\right)^{2} \\\\ P_{ \\, t \\, {\\varphi} \\, {\\varphi} \\, t }^{ \\phantom{\\, t}\\phantom{\\, {\\varphi}}\\phantom{\\, {\\varphi}}\\phantom{\\, t} } & = & -\\frac{1}{2} \\, r e^{\\left(\\Gamma\\left(r\\right) - \\Lambda\\left(r\\right)\\right)} \\sin\\left({\\theta}\\right)^{2} \\frac{\\partial\\,\\Gamma}{\\partial r} \\\\ P_{ \\, r \\, t \\, t \\, r }^{ \\phantom{\\, r}\\phantom{\\, t}\\phantom{\\, t}\\phantom{\\, r} } & = & -\\frac{1}{4} \\, e^{\\Gamma\\left(r\\right)} \\left(\\frac{\\partial\\,\\Gamma}{\\partial r}\\right)^{2} + \\frac{1}{4} \\, e^{\\Gamma\\left(r\\right)} \\frac{\\partial\\,\\Gamma}{\\partial r} \\frac{\\partial\\,\\Lambda}{\\partial r} - \\frac{1}{2} \\, e^{\\Gamma\\left(r\\right)} \\frac{\\partial^2\\,\\Gamma}{\\partial r ^ 2} \\\\ P_{ \\, r \\, t \\, r \\, t }^{ \\phantom{\\, r}\\phantom{\\, t}\\phantom{\\, r}\\phantom{\\, t} } & = & -\\frac{3 \\, r^{2} e^{\\Gamma\\left(r\\right)} \\left(\\frac{\\partial\\,\\Gamma}{\\partial r}\\right)^{2} + 6 \\, r^{2} e^{\\Gamma\\left(r\\right)} \\frac{\\partial^2\\,\\Gamma}{\\partial r ^ 2} + 20 \\, r e^{\\Gamma\\left(r\\right)} \\frac{\\partial\\,\\Gamma}{\\partial r} - {\\left(3 \\, r^{2} e^{\\Gamma\\left(r\\right)} \\frac{\\partial\\,\\Gamma}{\\partial r} + 8 \\, r e^{\\Gamma\\left(r\\right)}\\right)} \\frac{\\partial\\,\\Lambda}{\\partial r} - 8 \\, e^{\\left(\\Gamma\\left(r\\right) + \\Lambda\\left(r\\right)\\right)} + 8 \\, e^{\\Gamma\\left(r\\right)}}{8 \\, r^{2}} \\\\ P_{ \\, r \\, r \\, t \\, t }^{ \\phantom{\\, r}\\phantom{\\, r}\\phantom{\\, t}\\phantom{\\, t} } & = & \\frac{5 \\, r^{2} e^{\\Gamma\\left(r\\right)} \\left(\\frac{\\partial\\,\\Gamma}{\\partial r}\\right)^{2} + 10 \\, r^{2} e^{\\Gamma\\left(r\\right)} \\frac{\\partial^2\\,\\Gamma}{\\partial r ^ 2} + 20 \\, r e^{\\Gamma\\left(r\\right)} \\frac{\\partial\\,\\Gamma}{\\partial r} - {\\left(5 \\, r^{2} e^{\\Gamma\\left(r\\right)} \\frac{\\partial\\,\\Gamma}{\\partial r} + 8 \\, r e^{\\Gamma\\left(r\\right)}\\right)} \\frac{\\partial\\,\\Lambda}{\\partial r} - 8 \\, e^{\\left(\\Gamma\\left(r\\right) + \\Lambda\\left(r\\right)\\right)} + 8 \\, e^{\\Gamma\\left(r\\right)}}{8 \\, r^{2}} \\\\ P_{ \\, r \\, r \\, {\\theta} \\, {\\theta} }^{ \\phantom{\\, r}\\phantom{\\, r}\\phantom{\\, {\\theta}}\\phantom{\\, {\\theta}} } & = & -\\frac{1}{4} \\, r^{2} \\left(\\frac{\\partial\\,\\Gamma}{\\partial r}\\right)^{2} - \\frac{1}{2} \\, r^{2} \\frac{\\partial^2\\,\\Gamma}{\\partial r ^ 2} - \\frac{7}{4} \\, r \\frac{\\partial\\,\\Gamma}{\\partial r} + \\frac{1}{4} \\, {\\left(r^{2} \\frac{\\partial\\,\\Gamma}{\\partial r} + 7 \\, r\\right)} \\frac{\\partial\\,\\Lambda}{\\partial r} + \\frac{5}{2} \\, e^{\\Lambda\\left(r\\right)} - \\frac{5}{2} \\\\ P_{ \\, r \\, r \\, {\\varphi} \\, {\\varphi} }^{ \\phantom{\\, r}\\phantom{\\, r}\\phantom{\\, {\\varphi}}\\phantom{\\, {\\varphi}} } & = & -\\frac{1}{4} \\, {\\left(r^{2} \\left(\\frac{\\partial\\,\\Gamma}{\\partial r}\\right)^{2} + 2 \\, r^{2} \\frac{\\partial^2\\,\\Gamma}{\\partial r ^ 2} + 7 \\, r \\frac{\\partial\\,\\Gamma}{\\partial r} - {\\left(r^{2} \\frac{\\partial\\,\\Gamma}{\\partial r} + 7 \\, r\\right)} \\frac{\\partial\\,\\Lambda}{\\partial r} - 10 \\, e^{\\Lambda\\left(r\\right)} + 10\\right)} \\sin\\left({\\theta}\\right)^{2} \\\\ P_{ \\, r \\, {\\theta} \\, r \\, {\\theta} }^{ \\phantom{\\, r}\\phantom{\\, {\\theta}}\\phantom{\\, r}\\phantom{\\, {\\theta}} } & = & \\frac{1}{4} \\, r^{2} \\left(\\frac{\\partial\\,\\Gamma}{\\partial r}\\right)^{2} + \\frac{1}{2} \\, r^{2} \\frac{\\partial^2\\,\\Gamma}{\\partial r ^ 2} + \\frac{7}{4} \\, r \\frac{\\partial\\,\\Gamma}{\\partial r} - \\frac{1}{4} \\, {\\left(r^{2} \\frac{\\partial\\,\\Gamma}{\\partial r} + 5 \\, r\\right)} \\frac{\\partial\\,\\Lambda}{\\partial r} - \\frac{5}{2} \\, e^{\\Lambda\\left(r\\right)} + \\frac{5}{2} \\\\ P_{ \\, r \\, {\\theta} \\, {\\theta} \\, r }^{ \\phantom{\\, r}\\phantom{\\, {\\theta}}\\phantom{\\, {\\theta}}\\phantom{\\, r} } & = & -\\frac{1}{2} \\, r \\frac{\\partial\\,\\Lambda}{\\partial r} \\\\ P_{ \\, r \\, {\\varphi} \\, r \\, {\\varphi} }^{ \\phantom{\\, r}\\phantom{\\, {\\varphi}}\\phantom{\\, r}\\phantom{\\, {\\varphi}} } & = & \\frac{1}{4} \\, {\\left(r^{2} \\left(\\frac{\\partial\\,\\Gamma}{\\partial r}\\right)^{2} + 2 \\, r^{2} \\frac{\\partial^2\\,\\Gamma}{\\partial r ^ 2} + 7 \\, r \\frac{\\partial\\,\\Gamma}{\\partial r} - {\\left(r^{2} \\frac{\\partial\\,\\Gamma}{\\partial r} + 5 \\, r\\right)} \\frac{\\partial\\,\\Lambda}{\\partial r} - 10 \\, e^{\\Lambda\\left(r\\right)} + 10\\right)} \\sin\\left({\\theta}\\right)^{2} \\\\ P_{ \\, r \\, {\\varphi} \\, {\\varphi} \\, r }^{ \\phantom{\\, r}\\phantom{\\, {\\varphi}}\\phantom{\\, {\\varphi}}\\phantom{\\, r} } & = & -\\frac{1}{2} \\, r \\sin\\left({\\theta}\\right)^{2} \\frac{\\partial\\,\\Lambda}{\\partial r} \\\\ P_{ \\, {\\theta} \\, t \\, t \\, {\\theta} }^{ \\phantom{\\, {\\theta}}\\phantom{\\, t}\\phantom{\\, t}\\phantom{\\, {\\theta}} } & = & -\\frac{1}{2} \\, r e^{\\left(\\Gamma\\left(r\\right) - \\Lambda\\left(r\\right)\\right)} \\frac{\\partial\\,\\Gamma}{\\partial r} \\\\ P_{ \\, {\\theta} \\, t \\, {\\theta} \\, t }^{ \\phantom{\\, {\\theta}}\\phantom{\\, t}\\phantom{\\, {\\theta}}\\phantom{\\, t} } & = & -\\frac{1}{8} \\, {\\left(5 \\, r^{2} e^{\\Gamma\\left(r\\right)} \\left(\\frac{\\partial\\,\\Gamma}{\\partial r}\\right)^{2} + 10 \\, r^{2} e^{\\Gamma\\left(r\\right)} \\frac{\\partial^2\\,\\Gamma}{\\partial r ^ 2} + 16 \\, r e^{\\Gamma\\left(r\\right)} \\frac{\\partial\\,\\Gamma}{\\partial r} - {\\left(5 \\, r^{2} e^{\\Gamma\\left(r\\right)} \\frac{\\partial\\,\\Gamma}{\\partial r} + 8 \\, r e^{\\Gamma\\left(r\\right)}\\right)} \\frac{\\partial\\,\\Lambda}{\\partial r} - 8 \\, e^{\\left(\\Gamma\\left(r\\right) + \\Lambda\\left(r\\right)\\right)} + 8 \\, e^{\\Gamma\\left(r\\right)}\\right)} e^{\\left(-\\Lambda\\left(r\\right)\\right)} \\\\ P_{ \\, {\\theta} \\, r \\, r \\, {\\theta} }^{ \\phantom{\\, {\\theta}}\\phantom{\\, r}\\phantom{\\, r}\\phantom{\\, {\\theta}} } & = & -\\frac{1}{2} \\, r \\frac{\\partial\\,\\Lambda}{\\partial r} \\\\ P_{ \\, {\\theta} \\, r \\, {\\theta} \\, r }^{ \\phantom{\\, {\\theta}}\\phantom{\\, r}\\phantom{\\, {\\theta}}\\phantom{\\, r} } & = & \\frac{5}{8} \\, r^{2} \\left(\\frac{\\partial\\,\\Gamma}{\\partial r}\\right)^{2} + \\frac{5}{4} \\, r^{2} \\frac{\\partial^2\\,\\Gamma}{\\partial r ^ 2} + r \\frac{\\partial\\,\\Gamma}{\\partial r} - \\frac{1}{8} \\, {\\left(5 \\, r^{2} \\frac{\\partial\\,\\Gamma}{\\partial r} + 16 \\, r\\right)} \\frac{\\partial\\,\\Lambda}{\\partial r} - e^{\\Lambda\\left(r\\right)} + 1 \\\\ P_{ \\, {\\theta} \\, {\\theta} \\, t \\, t }^{ \\phantom{\\, {\\theta}}\\phantom{\\, {\\theta}}\\phantom{\\, t}\\phantom{\\, t} } & = & \\frac{1}{8} \\, {\\left(5 \\, r^{2} e^{\\Gamma\\left(r\\right)} \\left(\\frac{\\partial\\,\\Gamma}{\\partial r}\\right)^{2} + 10 \\, r^{2} e^{\\Gamma\\left(r\\right)} \\frac{\\partial^2\\,\\Gamma}{\\partial r ^ 2} + 20 \\, r e^{\\Gamma\\left(r\\right)} \\frac{\\partial\\,\\Gamma}{\\partial r} - {\\left(5 \\, r^{2} e^{\\Gamma\\left(r\\right)} \\frac{\\partial\\,\\Gamma}{\\partial r} + 8 \\, r e^{\\Gamma\\left(r\\right)}\\right)} \\frac{\\partial\\,\\Lambda}{\\partial r} - 8 \\, e^{\\left(\\Gamma\\left(r\\right) + \\Lambda\\left(r\\right)\\right)} + 8 \\, e^{\\Gamma\\left(r\\right)}\\right)} e^{\\left(-\\Lambda\\left(r\\right)\\right)} \\\\ P_{ \\, {\\theta} \\, {\\theta} \\, r \\, r }^{ \\phantom{\\, {\\theta}}\\phantom{\\, {\\theta}}\\phantom{\\, r}\\phantom{\\, r} } & = & -\\frac{5}{8} \\, r^{2} \\left(\\frac{\\partial\\,\\Gamma}{\\partial r}\\right)^{2} - \\frac{5}{4} \\, r^{2} \\frac{\\partial^2\\,\\Gamma}{\\partial r ^ 2} - r \\frac{\\partial\\,\\Gamma}{\\partial r} + \\frac{5}{8} \\, {\\left(r^{2} \\frac{\\partial\\,\\Gamma}{\\partial r} + 4 \\, r\\right)} \\frac{\\partial\\,\\Lambda}{\\partial r} + e^{\\Lambda\\left(r\\right)} - 1 \\\\ P_{ \\, {\\theta} \\, {\\theta} \\, {\\varphi} \\, {\\varphi} }^{ \\phantom{\\, {\\theta}}\\phantom{\\, {\\theta}}\\phantom{\\, {\\varphi}}\\phantom{\\, {\\varphi}} } & = & -\\frac{1}{4} \\, {\\left(r^{4} \\left(\\frac{\\partial\\,\\Gamma}{\\partial r}\\right)^{2} + 2 \\, r^{4} \\frac{\\partial^2\\,\\Gamma}{\\partial r ^ 2} + 7 \\, r^{3} \\frac{\\partial\\,\\Gamma}{\\partial r} - 10 \\, r^{2} e^{\\Lambda\\left(r\\right)} + 10 \\, r^{2} - {\\left(r^{4} \\frac{\\partial\\,\\Gamma}{\\partial r} + 7 \\, r^{3}\\right)} \\frac{\\partial\\,\\Lambda}{\\partial r}\\right)} e^{\\left(-\\Lambda\\left(r\\right)\\right)} \\sin\\left({\\theta}\\right)^{2} \\\\ P_{ \\, {\\theta} \\, {\\varphi} \\, {\\theta} \\, {\\varphi} }^{ \\phantom{\\, {\\theta}}\\phantom{\\, {\\varphi}}\\phantom{\\, {\\theta}}\\phantom{\\, {\\varphi}} } & = & \\frac{1}{4} \\, {\\left(r^{4} \\left(\\frac{\\partial\\,\\Gamma}{\\partial r}\\right)^{2} + 2 \\, r^{4} \\frac{\\partial^2\\,\\Gamma}{\\partial r ^ 2} + 7 \\, r^{3} \\frac{\\partial\\,\\Gamma}{\\partial r} - 6 \\, r^{2} e^{\\Lambda\\left(r\\right)} + 6 \\, r^{2} - {\\left(r^{4} \\frac{\\partial\\,\\Gamma}{\\partial r} + 7 \\, r^{3}\\right)} \\frac{\\partial\\,\\Lambda}{\\partial r}\\right)} e^{\\left(-\\Lambda\\left(r\\right)\\right)} \\sin\\left({\\theta}\\right)^{2} \\\\ P_{ \\, {\\theta} \\, {\\varphi} \\, {\\varphi} \\, {\\theta} }^{ \\phantom{\\, {\\theta}}\\phantom{\\, {\\varphi}}\\phantom{\\, {\\varphi}}\\phantom{\\, {\\theta}} } & = & -{\\left(r^{2} e^{\\Lambda\\left(r\\right)} - r^{2}\\right)} e^{\\left(-\\Lambda\\left(r\\right)\\right)} \\sin\\left({\\theta}\\right)^{2} \\\\ P_{ \\, {\\varphi} \\, t \\, t \\, {\\varphi} }^{ \\phantom{\\, {\\varphi}}\\phantom{\\, t}\\phantom{\\, t}\\phantom{\\, {\\varphi}} } & = & -\\frac{1}{2} \\, r e^{\\left(\\Gamma\\left(r\\right) - \\Lambda\\left(r\\right)\\right)} \\sin\\left({\\theta}\\right)^{2} \\frac{\\partial\\,\\Gamma}{\\partial r} \\\\ P_{ \\, {\\varphi} \\, t \\, {\\varphi} \\, t }^{ \\phantom{\\, {\\varphi}}\\phantom{\\, t}\\phantom{\\, {\\varphi}}\\phantom{\\, t} } & = & -\\frac{1}{8} \\, {\\left(5 \\, r^{2} e^{\\Gamma\\left(r\\right)} \\left(\\frac{\\partial\\,\\Gamma}{\\partial r}\\right)^{2} + 10 \\, r^{2} e^{\\Gamma\\left(r\\right)} \\frac{\\partial^2\\,\\Gamma}{\\partial r ^ 2} + 16 \\, r e^{\\Gamma\\left(r\\right)} \\frac{\\partial\\,\\Gamma}{\\partial r} - {\\left(5 \\, r^{2} e^{\\Gamma\\left(r\\right)} \\frac{\\partial\\,\\Gamma}{\\partial r} + 8 \\, r e^{\\Gamma\\left(r\\right)}\\right)} \\frac{\\partial\\,\\Lambda}{\\partial r} - 8 \\, e^{\\left(\\Gamma\\left(r\\right) + \\Lambda\\left(r\\right)\\right)} + 8 \\, e^{\\Gamma\\left(r\\right)}\\right)} e^{\\left(-\\Lambda\\left(r\\right)\\right)} \\sin\\left({\\theta}\\right)^{2} \\\\ P_{ \\, {\\varphi} \\, r \\, r \\, {\\varphi} }^{ \\phantom{\\, {\\varphi}}\\phantom{\\, r}\\phantom{\\, r}\\phantom{\\, {\\varphi}} } & = & -\\frac{1}{2} \\, r \\sin\\left({\\theta}\\right)^{2} \\frac{\\partial\\,\\Lambda}{\\partial r} \\\\ P_{ \\, {\\varphi} \\, r \\, {\\varphi} \\, r }^{ \\phantom{\\, {\\varphi}}\\phantom{\\, r}\\phantom{\\, {\\varphi}}\\phantom{\\, r} } & = & \\frac{1}{8} \\, {\\left(5 \\, r^{2} \\left(\\frac{\\partial\\,\\Gamma}{\\partial r}\\right)^{2} + 10 \\, r^{2} \\frac{\\partial^2\\,\\Gamma}{\\partial r ^ 2} + 8 \\, r \\frac{\\partial\\,\\Gamma}{\\partial r} - {\\left(5 \\, r^{2} \\frac{\\partial\\,\\Gamma}{\\partial r} + 16 \\, r\\right)} \\frac{\\partial\\,\\Lambda}{\\partial r} - 8 \\, e^{\\Lambda\\left(r\\right)} + 8\\right)} \\sin\\left({\\theta}\\right)^{2} \\\\ P_{ \\, {\\varphi} \\, {\\theta} \\, {\\theta} \\, {\\varphi} }^{ \\phantom{\\, {\\varphi}}\\phantom{\\, {\\theta}}\\phantom{\\, {\\theta}}\\phantom{\\, {\\varphi}} } & = & -{\\left(r^{2} e^{\\Lambda\\left(r\\right)} - r^{2}\\right)} e^{\\left(-\\Lambda\\left(r\\right)\\right)} \\sin\\left({\\theta}\\right)^{2} \\\\ P_{ \\, {\\varphi} \\, {\\theta} \\, {\\varphi} \\, {\\theta} }^{ \\phantom{\\, {\\varphi}}\\phantom{\\, {\\theta}}\\phantom{\\, {\\varphi}}\\phantom{\\, {\\theta}} } & = & \\frac{1}{4} \\, {\\left(r^{4} \\left(\\frac{\\partial\\,\\Gamma}{\\partial r}\\right)^{2} + 2 \\, r^{4} \\frac{\\partial^2\\,\\Gamma}{\\partial r ^ 2} + 7 \\, r^{3} \\frac{\\partial\\,\\Gamma}{\\partial r} - 6 \\, r^{2} e^{\\Lambda\\left(r\\right)} + 6 \\, r^{2} - {\\left(r^{4} \\frac{\\partial\\,\\Gamma}{\\partial r} + 7 \\, r^{3}\\right)} \\frac{\\partial\\,\\Lambda}{\\partial r}\\right)} e^{\\left(-\\Lambda\\left(r\\right)\\right)} \\sin\\left({\\theta}\\right)^{2} \\\\ P_{ \\, {\\varphi} \\, {\\varphi} \\, t \\, t }^{ \\phantom{\\, {\\varphi}}\\phantom{\\, {\\varphi}}\\phantom{\\, t}\\phantom{\\, t} } & = & \\frac{1}{8} \\, {\\left(5 \\, r^{2} e^{\\Gamma\\left(r\\right)} \\left(\\frac{\\partial\\,\\Gamma}{\\partial r}\\right)^{2} + 10 \\, r^{2} e^{\\Gamma\\left(r\\right)} \\frac{\\partial^2\\,\\Gamma}{\\partial r ^ 2} + 20 \\, r e^{\\Gamma\\left(r\\right)} \\frac{\\partial\\,\\Gamma}{\\partial r} - {\\left(5 \\, r^{2} e^{\\Gamma\\left(r\\right)} \\frac{\\partial\\,\\Gamma}{\\partial r} + 8 \\, r e^{\\Gamma\\left(r\\right)}\\right)} \\frac{\\partial\\,\\Lambda}{\\partial r} - 8 \\, e^{\\left(\\Gamma\\left(r\\right) + \\Lambda\\left(r\\right)\\right)} + 8 \\, e^{\\Gamma\\left(r\\right)}\\right)} e^{\\left(-\\Lambda\\left(r\\right)\\right)} \\sin\\left({\\theta}\\right)^{2} \\\\ P_{ \\, {\\varphi} \\, {\\varphi} \\, r \\, r }^{ \\phantom{\\, {\\varphi}}\\phantom{\\, {\\varphi}}\\phantom{\\, r}\\phantom{\\, r} } & = & -\\frac{1}{8} \\, {\\left(5 \\, r^{2} \\left(\\frac{\\partial\\,\\Gamma}{\\partial r}\\right)^{2} + 10 \\, r^{2} \\frac{\\partial^2\\,\\Gamma}{\\partial r ^ 2} + 8 \\, r \\frac{\\partial\\,\\Gamma}{\\partial r} - 5 \\, {\\left(r^{2} \\frac{\\partial\\,\\Gamma}{\\partial r} + 4 \\, r\\right)} \\frac{\\partial\\,\\Lambda}{\\partial r} - 8 \\, e^{\\Lambda\\left(r\\right)} + 8\\right)} \\sin\\left({\\theta}\\right)^{2} \\\\ P_{ \\, {\\varphi} \\, {\\varphi} \\, {\\theta} \\, {\\theta} }^{ \\phantom{\\, {\\varphi}}\\phantom{\\, {\\varphi}}\\phantom{\\, {\\theta}}\\phantom{\\, {\\theta}} } & = & -\\frac{1}{4} \\, {\\left(r^{4} \\left(\\frac{\\partial\\,\\Gamma}{\\partial r}\\right)^{2} + 2 \\, r^{4} \\frac{\\partial^2\\,\\Gamma}{\\partial r ^ 2} + 7 \\, r^{3} \\frac{\\partial\\,\\Gamma}{\\partial r} - 10 \\, r^{2} e^{\\Lambda\\left(r\\right)} + 10 \\, r^{2} - {\\left(r^{4} \\frac{\\partial\\,\\Gamma}{\\partial r} + 7 \\, r^{3}\\right)} \\frac{\\partial\\,\\Lambda}{\\partial r}\\right)} e^{\\left(-\\Lambda\\left(r\\right)\\right)} \\sin\\left({\\theta}\\right)^{2} \\end{array}</script></html>"
      ],
      "text/latex": [
       "$$\\newcommand{\\Bold}[1]{\\mathbf{#1}}\\begin{array}{lcl} P_{ \\, t \\, t \\, r \\, r }^{ \\phantom{\\, t}\\phantom{\\, t}\\phantom{\\, r}\\phantom{\\, r} } & = & \\frac{5 \\, r^{2} e^{\\Gamma\\left(r\\right)} \\left(\\frac{\\partial\\,\\Gamma}{\\partial r}\\right)^{2} + 10 \\, r^{2} e^{\\Gamma\\left(r\\right)} \\frac{\\partial^2\\,\\Gamma}{\\partial r ^ 2} + 8 \\, r e^{\\Gamma\\left(r\\right)} \\frac{\\partial\\,\\Gamma}{\\partial r} - 5 \\, {\\left(r^{2} e^{\\Gamma\\left(r\\right)} \\frac{\\partial\\,\\Gamma}{\\partial r} + 4 \\, r e^{\\Gamma\\left(r\\right)}\\right)} \\frac{\\partial\\,\\Lambda}{\\partial r} - 8 \\, e^{\\left(\\Gamma\\left(r\\right) + \\Lambda\\left(r\\right)\\right)} + 8 \\, e^{\\Gamma\\left(r\\right)}}{8 \\, r^{2}} \\\\ P_{ \\, t \\, t \\, {\\theta} \\, {\\theta} }^{ \\phantom{\\, t}\\phantom{\\, t}\\phantom{\\, {\\theta}}\\phantom{\\, {\\theta}} } & = & \\frac{1}{4} \\, {\\left(r^{2} e^{\\Gamma\\left(r\\right)} \\left(\\frac{\\partial\\,\\Gamma}{\\partial r}\\right)^{2} + 2 \\, r^{2} e^{\\Gamma\\left(r\\right)} \\frac{\\partial^2\\,\\Gamma}{\\partial r ^ 2} + 7 \\, r e^{\\Gamma\\left(r\\right)} \\frac{\\partial\\,\\Gamma}{\\partial r} - {\\left(r^{2} e^{\\Gamma\\left(r\\right)} \\frac{\\partial\\,\\Gamma}{\\partial r} + 7 \\, r e^{\\Gamma\\left(r\\right)}\\right)} \\frac{\\partial\\,\\Lambda}{\\partial r} - 10 \\, e^{\\left(\\Gamma\\left(r\\right) + \\Lambda\\left(r\\right)\\right)} + 10 \\, e^{\\Gamma\\left(r\\right)}\\right)} e^{\\left(-\\Lambda\\left(r\\right)\\right)} \\\\ P_{ \\, t \\, t \\, {\\varphi} \\, {\\varphi} }^{ \\phantom{\\, t}\\phantom{\\, t}\\phantom{\\, {\\varphi}}\\phantom{\\, {\\varphi}} } & = & \\frac{1}{4} \\, {\\left(r^{2} e^{\\Gamma\\left(r\\right)} \\left(\\frac{\\partial\\,\\Gamma}{\\partial r}\\right)^{2} + 2 \\, r^{2} e^{\\Gamma\\left(r\\right)} \\frac{\\partial^2\\,\\Gamma}{\\partial r ^ 2} + 7 \\, r e^{\\Gamma\\left(r\\right)} \\frac{\\partial\\,\\Gamma}{\\partial r} - {\\left(r^{2} e^{\\Gamma\\left(r\\right)} \\frac{\\partial\\,\\Gamma}{\\partial r} + 7 \\, r e^{\\Gamma\\left(r\\right)}\\right)} \\frac{\\partial\\,\\Lambda}{\\partial r} - 10 \\, e^{\\left(\\Gamma\\left(r\\right) + \\Lambda\\left(r\\right)\\right)} + 10 \\, e^{\\Gamma\\left(r\\right)}\\right)} e^{\\left(-\\Lambda\\left(r\\right)\\right)} \\sin\\left({\\theta}\\right)^{2} \\\\ P_{ \\, t \\, r \\, t \\, r }^{ \\phantom{\\, t}\\phantom{\\, r}\\phantom{\\, t}\\phantom{\\, r} } & = & -\\frac{3 \\, r^{2} e^{\\Gamma\\left(r\\right)} \\left(\\frac{\\partial\\,\\Gamma}{\\partial r}\\right)^{2} + 6 \\, r^{2} e^{\\Gamma\\left(r\\right)} \\frac{\\partial^2\\,\\Gamma}{\\partial r ^ 2} + 8 \\, r e^{\\Gamma\\left(r\\right)} \\frac{\\partial\\,\\Gamma}{\\partial r} - {\\left(3 \\, r^{2} e^{\\Gamma\\left(r\\right)} \\frac{\\partial\\,\\Gamma}{\\partial r} + 20 \\, r e^{\\Gamma\\left(r\\right)}\\right)} \\frac{\\partial\\,\\Lambda}{\\partial r} - 8 \\, e^{\\left(\\Gamma\\left(r\\right) + \\Lambda\\left(r\\right)\\right)} + 8 \\, e^{\\Gamma\\left(r\\right)}}{8 \\, r^{2}} \\\\ P_{ \\, t \\, r \\, r \\, t }^{ \\phantom{\\, t}\\phantom{\\, r}\\phantom{\\, r}\\phantom{\\, t} } & = & -\\frac{1}{4} \\, e^{\\Gamma\\left(r\\right)} \\left(\\frac{\\partial\\,\\Gamma}{\\partial r}\\right)^{2} + \\frac{1}{4} \\, e^{\\Gamma\\left(r\\right)} \\frac{\\partial\\,\\Gamma}{\\partial r} \\frac{\\partial\\,\\Lambda}{\\partial r} - \\frac{1}{2} \\, e^{\\Gamma\\left(r\\right)} \\frac{\\partial^2\\,\\Gamma}{\\partial r ^ 2} \\\\ P_{ \\, t \\, {\\theta} \\, t \\, {\\theta} }^{ \\phantom{\\, t}\\phantom{\\, {\\theta}}\\phantom{\\, t}\\phantom{\\, {\\theta}} } & = & -\\frac{1}{4} \\, {\\left(r^{2} e^{\\Gamma\\left(r\\right)} \\left(\\frac{\\partial\\,\\Gamma}{\\partial r}\\right)^{2} + 2 \\, r^{2} e^{\\Gamma\\left(r\\right)} \\frac{\\partial^2\\,\\Gamma}{\\partial r ^ 2} + 5 \\, r e^{\\Gamma\\left(r\\right)} \\frac{\\partial\\,\\Gamma}{\\partial r} - {\\left(r^{2} e^{\\Gamma\\left(r\\right)} \\frac{\\partial\\,\\Gamma}{\\partial r} + 7 \\, r e^{\\Gamma\\left(r\\right)}\\right)} \\frac{\\partial\\,\\Lambda}{\\partial r} - 10 \\, e^{\\left(\\Gamma\\left(r\\right) + \\Lambda\\left(r\\right)\\right)} + 10 \\, e^{\\Gamma\\left(r\\right)}\\right)} e^{\\left(-\\Lambda\\left(r\\right)\\right)} \\\\ P_{ \\, t \\, {\\theta} \\, {\\theta} \\, t }^{ \\phantom{\\, t}\\phantom{\\, {\\theta}}\\phantom{\\, {\\theta}}\\phantom{\\, t} } & = & -\\frac{1}{2} \\, r e^{\\left(\\Gamma\\left(r\\right) - \\Lambda\\left(r\\right)\\right)} \\frac{\\partial\\,\\Gamma}{\\partial r} \\\\ P_{ \\, t \\, {\\varphi} \\, t \\, {\\varphi} }^{ \\phantom{\\, t}\\phantom{\\, {\\varphi}}\\phantom{\\, t}\\phantom{\\, {\\varphi}} } & = & -\\frac{1}{4} \\, {\\left(r^{2} e^{\\Gamma\\left(r\\right)} \\left(\\frac{\\partial\\,\\Gamma}{\\partial r}\\right)^{2} + 2 \\, r^{2} e^{\\Gamma\\left(r\\right)} \\frac{\\partial^2\\,\\Gamma}{\\partial r ^ 2} + 5 \\, r e^{\\Gamma\\left(r\\right)} \\frac{\\partial\\,\\Gamma}{\\partial r} - {\\left(r^{2} e^{\\Gamma\\left(r\\right)} \\frac{\\partial\\,\\Gamma}{\\partial r} + 7 \\, r e^{\\Gamma\\left(r\\right)}\\right)} \\frac{\\partial\\,\\Lambda}{\\partial r} - 10 \\, e^{\\left(\\Gamma\\left(r\\right) + \\Lambda\\left(r\\right)\\right)} + 10 \\, e^{\\Gamma\\left(r\\right)}\\right)} e^{\\left(-\\Lambda\\left(r\\right)\\right)} \\sin\\left({\\theta}\\right)^{2} \\\\ P_{ \\, t \\, {\\varphi} \\, {\\varphi} \\, t }^{ \\phantom{\\, t}\\phantom{\\, {\\varphi}}\\phantom{\\, {\\varphi}}\\phantom{\\, t} } & = & -\\frac{1}{2} \\, r e^{\\left(\\Gamma\\left(r\\right) - \\Lambda\\left(r\\right)\\right)} \\sin\\left({\\theta}\\right)^{2} \\frac{\\partial\\,\\Gamma}{\\partial r} \\\\ P_{ \\, r \\, t \\, t \\, r }^{ \\phantom{\\, r}\\phantom{\\, t}\\phantom{\\, t}\\phantom{\\, r} } & = & -\\frac{1}{4} \\, e^{\\Gamma\\left(r\\right)} \\left(\\frac{\\partial\\,\\Gamma}{\\partial r}\\right)^{2} + \\frac{1}{4} \\, e^{\\Gamma\\left(r\\right)} \\frac{\\partial\\,\\Gamma}{\\partial r} \\frac{\\partial\\,\\Lambda}{\\partial r} - \\frac{1}{2} \\, e^{\\Gamma\\left(r\\right)} \\frac{\\partial^2\\,\\Gamma}{\\partial r ^ 2} \\\\ P_{ \\, r \\, t \\, r \\, t }^{ \\phantom{\\, r}\\phantom{\\, t}\\phantom{\\, r}\\phantom{\\, t} } & = & -\\frac{3 \\, r^{2} e^{\\Gamma\\left(r\\right)} \\left(\\frac{\\partial\\,\\Gamma}{\\partial r}\\right)^{2} + 6 \\, r^{2} e^{\\Gamma\\left(r\\right)} \\frac{\\partial^2\\,\\Gamma}{\\partial r ^ 2} + 20 \\, r e^{\\Gamma\\left(r\\right)} \\frac{\\partial\\,\\Gamma}{\\partial r} - {\\left(3 \\, r^{2} e^{\\Gamma\\left(r\\right)} \\frac{\\partial\\,\\Gamma}{\\partial r} + 8 \\, r e^{\\Gamma\\left(r\\right)}\\right)} \\frac{\\partial\\,\\Lambda}{\\partial r} - 8 \\, e^{\\left(\\Gamma\\left(r\\right) + \\Lambda\\left(r\\right)\\right)} + 8 \\, e^{\\Gamma\\left(r\\right)}}{8 \\, r^{2}} \\\\ P_{ \\, r \\, r \\, t \\, t }^{ \\phantom{\\, r}\\phantom{\\, r}\\phantom{\\, t}\\phantom{\\, t} } & = & \\frac{5 \\, r^{2} e^{\\Gamma\\left(r\\right)} \\left(\\frac{\\partial\\,\\Gamma}{\\partial r}\\right)^{2} + 10 \\, r^{2} e^{\\Gamma\\left(r\\right)} \\frac{\\partial^2\\,\\Gamma}{\\partial r ^ 2} + 20 \\, r e^{\\Gamma\\left(r\\right)} \\frac{\\partial\\,\\Gamma}{\\partial r} - {\\left(5 \\, r^{2} e^{\\Gamma\\left(r\\right)} \\frac{\\partial\\,\\Gamma}{\\partial r} + 8 \\, r e^{\\Gamma\\left(r\\right)}\\right)} \\frac{\\partial\\,\\Lambda}{\\partial r} - 8 \\, e^{\\left(\\Gamma\\left(r\\right) + \\Lambda\\left(r\\right)\\right)} + 8 \\, e^{\\Gamma\\left(r\\right)}}{8 \\, r^{2}} \\\\ P_{ \\, r \\, r \\, {\\theta} \\, {\\theta} }^{ \\phantom{\\, r}\\phantom{\\, r}\\phantom{\\, {\\theta}}\\phantom{\\, {\\theta}} } & = & -\\frac{1}{4} \\, r^{2} \\left(\\frac{\\partial\\,\\Gamma}{\\partial r}\\right)^{2} - \\frac{1}{2} \\, r^{2} \\frac{\\partial^2\\,\\Gamma}{\\partial r ^ 2} - \\frac{7}{4} \\, r \\frac{\\partial\\,\\Gamma}{\\partial r} + \\frac{1}{4} \\, {\\left(r^{2} \\frac{\\partial\\,\\Gamma}{\\partial r} + 7 \\, r\\right)} \\frac{\\partial\\,\\Lambda}{\\partial r} + \\frac{5}{2} \\, e^{\\Lambda\\left(r\\right)} - \\frac{5}{2} \\\\ P_{ \\, r \\, r \\, {\\varphi} \\, {\\varphi} }^{ \\phantom{\\, r}\\phantom{\\, r}\\phantom{\\, {\\varphi}}\\phantom{\\, {\\varphi}} } & = & -\\frac{1}{4} \\, {\\left(r^{2} \\left(\\frac{\\partial\\,\\Gamma}{\\partial r}\\right)^{2} + 2 \\, r^{2} \\frac{\\partial^2\\,\\Gamma}{\\partial r ^ 2} + 7 \\, r \\frac{\\partial\\,\\Gamma}{\\partial r} - {\\left(r^{2} \\frac{\\partial\\,\\Gamma}{\\partial r} + 7 \\, r\\right)} \\frac{\\partial\\,\\Lambda}{\\partial r} - 10 \\, e^{\\Lambda\\left(r\\right)} + 10\\right)} \\sin\\left({\\theta}\\right)^{2} \\\\ P_{ \\, r \\, {\\theta} \\, r \\, {\\theta} }^{ \\phantom{\\, r}\\phantom{\\, {\\theta}}\\phantom{\\, r}\\phantom{\\, {\\theta}} } & = & \\frac{1}{4} \\, r^{2} \\left(\\frac{\\partial\\,\\Gamma}{\\partial r}\\right)^{2} + \\frac{1}{2} \\, r^{2} \\frac{\\partial^2\\,\\Gamma}{\\partial r ^ 2} + \\frac{7}{4} \\, r \\frac{\\partial\\,\\Gamma}{\\partial r} - \\frac{1}{4} \\, {\\left(r^{2} \\frac{\\partial\\,\\Gamma}{\\partial r} + 5 \\, r\\right)} \\frac{\\partial\\,\\Lambda}{\\partial r} - \\frac{5}{2} \\, e^{\\Lambda\\left(r\\right)} + \\frac{5}{2} \\\\ P_{ \\, r \\, {\\theta} \\, {\\theta} \\, r }^{ \\phantom{\\, r}\\phantom{\\, {\\theta}}\\phantom{\\, {\\theta}}\\phantom{\\, r} } & = & -\\frac{1}{2} \\, r \\frac{\\partial\\,\\Lambda}{\\partial r} \\\\ P_{ \\, r \\, {\\varphi} \\, r \\, {\\varphi} }^{ \\phantom{\\, r}\\phantom{\\, {\\varphi}}\\phantom{\\, r}\\phantom{\\, {\\varphi}} } & = & \\frac{1}{4} \\, {\\left(r^{2} \\left(\\frac{\\partial\\,\\Gamma}{\\partial r}\\right)^{2} + 2 \\, r^{2} \\frac{\\partial^2\\,\\Gamma}{\\partial r ^ 2} + 7 \\, r \\frac{\\partial\\,\\Gamma}{\\partial r} - {\\left(r^{2} \\frac{\\partial\\,\\Gamma}{\\partial r} + 5 \\, r\\right)} \\frac{\\partial\\,\\Lambda}{\\partial r} - 10 \\, e^{\\Lambda\\left(r\\right)} + 10\\right)} \\sin\\left({\\theta}\\right)^{2} \\\\ P_{ \\, r \\, {\\varphi} \\, {\\varphi} \\, r }^{ \\phantom{\\, r}\\phantom{\\, {\\varphi}}\\phantom{\\, {\\varphi}}\\phantom{\\, r} } & = & -\\frac{1}{2} \\, r \\sin\\left({\\theta}\\right)^{2} \\frac{\\partial\\,\\Lambda}{\\partial r} \\\\ P_{ \\, {\\theta} \\, t \\, t \\, {\\theta} }^{ \\phantom{\\, {\\theta}}\\phantom{\\, t}\\phantom{\\, t}\\phantom{\\, {\\theta}} } & = & -\\frac{1}{2} \\, r e^{\\left(\\Gamma\\left(r\\right) - \\Lambda\\left(r\\right)\\right)} \\frac{\\partial\\,\\Gamma}{\\partial r} \\\\ P_{ \\, {\\theta} \\, t \\, {\\theta} \\, t }^{ \\phantom{\\, {\\theta}}\\phantom{\\, t}\\phantom{\\, {\\theta}}\\phantom{\\, t} } & = & -\\frac{1}{8} \\, {\\left(5 \\, r^{2} e^{\\Gamma\\left(r\\right)} \\left(\\frac{\\partial\\,\\Gamma}{\\partial r}\\right)^{2} + 10 \\, r^{2} e^{\\Gamma\\left(r\\right)} \\frac{\\partial^2\\,\\Gamma}{\\partial r ^ 2} + 16 \\, r e^{\\Gamma\\left(r\\right)} \\frac{\\partial\\,\\Gamma}{\\partial r} - {\\left(5 \\, r^{2} e^{\\Gamma\\left(r\\right)} \\frac{\\partial\\,\\Gamma}{\\partial r} + 8 \\, r e^{\\Gamma\\left(r\\right)}\\right)} \\frac{\\partial\\,\\Lambda}{\\partial r} - 8 \\, e^{\\left(\\Gamma\\left(r\\right) + \\Lambda\\left(r\\right)\\right)} + 8 \\, e^{\\Gamma\\left(r\\right)}\\right)} e^{\\left(-\\Lambda\\left(r\\right)\\right)} \\\\ P_{ \\, {\\theta} \\, r \\, r \\, {\\theta} }^{ \\phantom{\\, {\\theta}}\\phantom{\\, r}\\phantom{\\, r}\\phantom{\\, {\\theta}} } & = & -\\frac{1}{2} \\, r \\frac{\\partial\\,\\Lambda}{\\partial r} \\\\ P_{ \\, {\\theta} \\, r \\, {\\theta} \\, r }^{ \\phantom{\\, {\\theta}}\\phantom{\\, r}\\phantom{\\, {\\theta}}\\phantom{\\, r} } & = & \\frac{5}{8} \\, r^{2} \\left(\\frac{\\partial\\,\\Gamma}{\\partial r}\\right)^{2} + \\frac{5}{4} \\, r^{2} \\frac{\\partial^2\\,\\Gamma}{\\partial r ^ 2} + r \\frac{\\partial\\,\\Gamma}{\\partial r} - \\frac{1}{8} \\, {\\left(5 \\, r^{2} \\frac{\\partial\\,\\Gamma}{\\partial r} + 16 \\, r\\right)} \\frac{\\partial\\,\\Lambda}{\\partial r} - e^{\\Lambda\\left(r\\right)} + 1 \\\\ P_{ \\, {\\theta} \\, {\\theta} \\, t \\, t }^{ \\phantom{\\, {\\theta}}\\phantom{\\, {\\theta}}\\phantom{\\, t}\\phantom{\\, t} } & = & \\frac{1}{8} \\, {\\left(5 \\, r^{2} e^{\\Gamma\\left(r\\right)} \\left(\\frac{\\partial\\,\\Gamma}{\\partial r}\\right)^{2} + 10 \\, r^{2} e^{\\Gamma\\left(r\\right)} \\frac{\\partial^2\\,\\Gamma}{\\partial r ^ 2} + 20 \\, r e^{\\Gamma\\left(r\\right)} \\frac{\\partial\\,\\Gamma}{\\partial r} - {\\left(5 \\, r^{2} e^{\\Gamma\\left(r\\right)} \\frac{\\partial\\,\\Gamma}{\\partial r} + 8 \\, r e^{\\Gamma\\left(r\\right)}\\right)} \\frac{\\partial\\,\\Lambda}{\\partial r} - 8 \\, e^{\\left(\\Gamma\\left(r\\right) + \\Lambda\\left(r\\right)\\right)} + 8 \\, e^{\\Gamma\\left(r\\right)}\\right)} e^{\\left(-\\Lambda\\left(r\\right)\\right)} \\\\ P_{ \\, {\\theta} \\, {\\theta} \\, r \\, r }^{ \\phantom{\\, {\\theta}}\\phantom{\\, {\\theta}}\\phantom{\\, r}\\phantom{\\, r} } & = & -\\frac{5}{8} \\, r^{2} \\left(\\frac{\\partial\\,\\Gamma}{\\partial r}\\right)^{2} - \\frac{5}{4} \\, r^{2} \\frac{\\partial^2\\,\\Gamma}{\\partial r ^ 2} - r \\frac{\\partial\\,\\Gamma}{\\partial r} + \\frac{5}{8} \\, {\\left(r^{2} \\frac{\\partial\\,\\Gamma}{\\partial r} + 4 \\, r\\right)} \\frac{\\partial\\,\\Lambda}{\\partial r} + e^{\\Lambda\\left(r\\right)} - 1 \\\\ P_{ \\, {\\theta} \\, {\\theta} \\, {\\varphi} \\, {\\varphi} }^{ \\phantom{\\, {\\theta}}\\phantom{\\, {\\theta}}\\phantom{\\, {\\varphi}}\\phantom{\\, {\\varphi}} } & = & -\\frac{1}{4} \\, {\\left(r^{4} \\left(\\frac{\\partial\\,\\Gamma}{\\partial r}\\right)^{2} + 2 \\, r^{4} \\frac{\\partial^2\\,\\Gamma}{\\partial r ^ 2} + 7 \\, r^{3} \\frac{\\partial\\,\\Gamma}{\\partial r} - 10 \\, r^{2} e^{\\Lambda\\left(r\\right)} + 10 \\, r^{2} - {\\left(r^{4} \\frac{\\partial\\,\\Gamma}{\\partial r} + 7 \\, r^{3}\\right)} \\frac{\\partial\\,\\Lambda}{\\partial r}\\right)} e^{\\left(-\\Lambda\\left(r\\right)\\right)} \\sin\\left({\\theta}\\right)^{2} \\\\ P_{ \\, {\\theta} \\, {\\varphi} \\, {\\theta} \\, {\\varphi} }^{ \\phantom{\\, {\\theta}}\\phantom{\\, {\\varphi}}\\phantom{\\, {\\theta}}\\phantom{\\, {\\varphi}} } & = & \\frac{1}{4} \\, {\\left(r^{4} \\left(\\frac{\\partial\\,\\Gamma}{\\partial r}\\right)^{2} + 2 \\, r^{4} \\frac{\\partial^2\\,\\Gamma}{\\partial r ^ 2} + 7 \\, r^{3} \\frac{\\partial\\,\\Gamma}{\\partial r} - 6 \\, r^{2} e^{\\Lambda\\left(r\\right)} + 6 \\, r^{2} - {\\left(r^{4} \\frac{\\partial\\,\\Gamma}{\\partial r} + 7 \\, r^{3}\\right)} \\frac{\\partial\\,\\Lambda}{\\partial r}\\right)} e^{\\left(-\\Lambda\\left(r\\right)\\right)} \\sin\\left({\\theta}\\right)^{2} \\\\ P_{ \\, {\\theta} \\, {\\varphi} \\, {\\varphi} \\, {\\theta} }^{ \\phantom{\\, {\\theta}}\\phantom{\\, {\\varphi}}\\phantom{\\, {\\varphi}}\\phantom{\\, {\\theta}} } & = & -{\\left(r^{2} e^{\\Lambda\\left(r\\right)} - r^{2}\\right)} e^{\\left(-\\Lambda\\left(r\\right)\\right)} \\sin\\left({\\theta}\\right)^{2} \\\\ P_{ \\, {\\varphi} \\, t \\, t \\, {\\varphi} }^{ \\phantom{\\, {\\varphi}}\\phantom{\\, t}\\phantom{\\, t}\\phantom{\\, {\\varphi}} } & = & -\\frac{1}{2} \\, r e^{\\left(\\Gamma\\left(r\\right) - \\Lambda\\left(r\\right)\\right)} \\sin\\left({\\theta}\\right)^{2} \\frac{\\partial\\,\\Gamma}{\\partial r} \\\\ P_{ \\, {\\varphi} \\, t \\, {\\varphi} \\, t }^{ \\phantom{\\, {\\varphi}}\\phantom{\\, t}\\phantom{\\, {\\varphi}}\\phantom{\\, t} } & = & -\\frac{1}{8} \\, {\\left(5 \\, r^{2} e^{\\Gamma\\left(r\\right)} \\left(\\frac{\\partial\\,\\Gamma}{\\partial r}\\right)^{2} + 10 \\, r^{2} e^{\\Gamma\\left(r\\right)} \\frac{\\partial^2\\,\\Gamma}{\\partial r ^ 2} + 16 \\, r e^{\\Gamma\\left(r\\right)} \\frac{\\partial\\,\\Gamma}{\\partial r} - {\\left(5 \\, r^{2} e^{\\Gamma\\left(r\\right)} \\frac{\\partial\\,\\Gamma}{\\partial r} + 8 \\, r e^{\\Gamma\\left(r\\right)}\\right)} \\frac{\\partial\\,\\Lambda}{\\partial r} - 8 \\, e^{\\left(\\Gamma\\left(r\\right) + \\Lambda\\left(r\\right)\\right)} + 8 \\, e^{\\Gamma\\left(r\\right)}\\right)} e^{\\left(-\\Lambda\\left(r\\right)\\right)} \\sin\\left({\\theta}\\right)^{2} \\\\ P_{ \\, {\\varphi} \\, r \\, r \\, {\\varphi} }^{ \\phantom{\\, {\\varphi}}\\phantom{\\, r}\\phantom{\\, r}\\phantom{\\, {\\varphi}} } & = & -\\frac{1}{2} \\, r \\sin\\left({\\theta}\\right)^{2} \\frac{\\partial\\,\\Lambda}{\\partial r} \\\\ P_{ \\, {\\varphi} \\, r \\, {\\varphi} \\, r }^{ \\phantom{\\, {\\varphi}}\\phantom{\\, r}\\phantom{\\, {\\varphi}}\\phantom{\\, r} } & = & \\frac{1}{8} \\, {\\left(5 \\, r^{2} \\left(\\frac{\\partial\\,\\Gamma}{\\partial r}\\right)^{2} + 10 \\, r^{2} \\frac{\\partial^2\\,\\Gamma}{\\partial r ^ 2} + 8 \\, r \\frac{\\partial\\,\\Gamma}{\\partial r} - {\\left(5 \\, r^{2} \\frac{\\partial\\,\\Gamma}{\\partial r} + 16 \\, r\\right)} \\frac{\\partial\\,\\Lambda}{\\partial r} - 8 \\, e^{\\Lambda\\left(r\\right)} + 8\\right)} \\sin\\left({\\theta}\\right)^{2} \\\\ P_{ \\, {\\varphi} \\, {\\theta} \\, {\\theta} \\, {\\varphi} }^{ \\phantom{\\, {\\varphi}}\\phantom{\\, {\\theta}}\\phantom{\\, {\\theta}}\\phantom{\\, {\\varphi}} } & = & -{\\left(r^{2} e^{\\Lambda\\left(r\\right)} - r^{2}\\right)} e^{\\left(-\\Lambda\\left(r\\right)\\right)} \\sin\\left({\\theta}\\right)^{2} \\\\ P_{ \\, {\\varphi} \\, {\\theta} \\, {\\varphi} \\, {\\theta} }^{ \\phantom{\\, {\\varphi}}\\phantom{\\, {\\theta}}\\phantom{\\, {\\varphi}}\\phantom{\\, {\\theta}} } & = & \\frac{1}{4} \\, {\\left(r^{4} \\left(\\frac{\\partial\\,\\Gamma}{\\partial r}\\right)^{2} + 2 \\, r^{4} \\frac{\\partial^2\\,\\Gamma}{\\partial r ^ 2} + 7 \\, r^{3} \\frac{\\partial\\,\\Gamma}{\\partial r} - 6 \\, r^{2} e^{\\Lambda\\left(r\\right)} + 6 \\, r^{2} - {\\left(r^{4} \\frac{\\partial\\,\\Gamma}{\\partial r} + 7 \\, r^{3}\\right)} \\frac{\\partial\\,\\Lambda}{\\partial r}\\right)} e^{\\left(-\\Lambda\\left(r\\right)\\right)} \\sin\\left({\\theta}\\right)^{2} \\\\ P_{ \\, {\\varphi} \\, {\\varphi} \\, t \\, t }^{ \\phantom{\\, {\\varphi}}\\phantom{\\, {\\varphi}}\\phantom{\\, t}\\phantom{\\, t} } & = & \\frac{1}{8} \\, {\\left(5 \\, r^{2} e^{\\Gamma\\left(r\\right)} \\left(\\frac{\\partial\\,\\Gamma}{\\partial r}\\right)^{2} + 10 \\, r^{2} e^{\\Gamma\\left(r\\right)} \\frac{\\partial^2\\,\\Gamma}{\\partial r ^ 2} + 20 \\, r e^{\\Gamma\\left(r\\right)} \\frac{\\partial\\,\\Gamma}{\\partial r} - {\\left(5 \\, r^{2} e^{\\Gamma\\left(r\\right)} \\frac{\\partial\\,\\Gamma}{\\partial r} + 8 \\, r e^{\\Gamma\\left(r\\right)}\\right)} \\frac{\\partial\\,\\Lambda}{\\partial r} - 8 \\, e^{\\left(\\Gamma\\left(r\\right) + \\Lambda\\left(r\\right)\\right)} + 8 \\, e^{\\Gamma\\left(r\\right)}\\right)} e^{\\left(-\\Lambda\\left(r\\right)\\right)} \\sin\\left({\\theta}\\right)^{2} \\\\ P_{ \\, {\\varphi} \\, {\\varphi} \\, r \\, r }^{ \\phantom{\\, {\\varphi}}\\phantom{\\, {\\varphi}}\\phantom{\\, r}\\phantom{\\, r} } & = & -\\frac{1}{8} \\, {\\left(5 \\, r^{2} \\left(\\frac{\\partial\\,\\Gamma}{\\partial r}\\right)^{2} + 10 \\, r^{2} \\frac{\\partial^2\\,\\Gamma}{\\partial r ^ 2} + 8 \\, r \\frac{\\partial\\,\\Gamma}{\\partial r} - 5 \\, {\\left(r^{2} \\frac{\\partial\\,\\Gamma}{\\partial r} + 4 \\, r\\right)} \\frac{\\partial\\,\\Lambda}{\\partial r} - 8 \\, e^{\\Lambda\\left(r\\right)} + 8\\right)} \\sin\\left({\\theta}\\right)^{2} \\\\ P_{ \\, {\\varphi} \\, {\\varphi} \\, {\\theta} \\, {\\theta} }^{ \\phantom{\\, {\\varphi}}\\phantom{\\, {\\varphi}}\\phantom{\\, {\\theta}}\\phantom{\\, {\\theta}} } & = & -\\frac{1}{4} \\, {\\left(r^{4} \\left(\\frac{\\partial\\,\\Gamma}{\\partial r}\\right)^{2} + 2 \\, r^{4} \\frac{\\partial^2\\,\\Gamma}{\\partial r ^ 2} + 7 \\, r^{3} \\frac{\\partial\\,\\Gamma}{\\partial r} - 10 \\, r^{2} e^{\\Lambda\\left(r\\right)} + 10 \\, r^{2} - {\\left(r^{4} \\frac{\\partial\\,\\Gamma}{\\partial r} + 7 \\, r^{3}\\right)} \\frac{\\partial\\,\\Lambda}{\\partial r}\\right)} e^{\\left(-\\Lambda\\left(r\\right)\\right)} \\sin\\left({\\theta}\\right)^{2} \\end{array}$$"
      ],
      "text/plain": [
       "P_t,t,r,r = 1/8*(5*r^2*e^gamm(r)*(d(gamm)/dr)^2 + 10*r^2*e^gamm(r)*d^2(gamm)/dr^2 + 8*r*e^gamm(r)*d(gamm)/dr - 5*(r^2*e^gamm(r)*d(gamm)/dr + 4*r*e^gamm(r))*d(lamb)/dr - 8*e^(gamm(r) + lamb(r)) + 8*e^gamm(r))/r^2 \n",
       "P_t,t,th,th = 1/4*(r^2*e^gamm(r)*(d(gamm)/dr)^2 + 2*r^2*e^gamm(r)*d^2(gamm)/dr^2 + 7*r*e^gamm(r)*d(gamm)/dr - (r^2*e^gamm(r)*d(gamm)/dr + 7*r*e^gamm(r))*d(lamb)/dr - 10*e^(gamm(r) + lamb(r)) + 10*e^gamm(r))*e^(-lamb(r)) \n",
       "P_t,t,ph,ph = 1/4*(r^2*e^gamm(r)*(d(gamm)/dr)^2 + 2*r^2*e^gamm(r)*d^2(gamm)/dr^2 + 7*r*e^gamm(r)*d(gamm)/dr - (r^2*e^gamm(r)*d(gamm)/dr + 7*r*e^gamm(r))*d(lamb)/dr - 10*e^(gamm(r) + lamb(r)) + 10*e^gamm(r))*e^(-lamb(r))*sin(th)^2 \n",
       "P_t,r,t,r = -1/8*(3*r^2*e^gamm(r)*(d(gamm)/dr)^2 + 6*r^2*e^gamm(r)*d^2(gamm)/dr^2 + 8*r*e^gamm(r)*d(gamm)/dr - (3*r^2*e^gamm(r)*d(gamm)/dr + 20*r*e^gamm(r))*d(lamb)/dr - 8*e^(gamm(r) + lamb(r)) + 8*e^gamm(r))/r^2 \n",
       "P_t,r,r,t = -1/4*e^gamm(r)*(d(gamm)/dr)^2 + 1/4*e^gamm(r)*d(gamm)/dr*d(lamb)/dr - 1/2*e^gamm(r)*d^2(gamm)/dr^2 \n",
       "P_t,th,t,th = -1/4*(r^2*e^gamm(r)*(d(gamm)/dr)^2 + 2*r^2*e^gamm(r)*d^2(gamm)/dr^2 + 5*r*e^gamm(r)*d(gamm)/dr - (r^2*e^gamm(r)*d(gamm)/dr + 7*r*e^gamm(r))*d(lamb)/dr - 10*e^(gamm(r) + lamb(r)) + 10*e^gamm(r))*e^(-lamb(r)) \n",
       "P_t,th,th,t = -1/2*r*e^(gamm(r) - lamb(r))*d(gamm)/dr \n",
       "P_t,ph,t,ph = -1/4*(r^2*e^gamm(r)*(d(gamm)/dr)^2 + 2*r^2*e^gamm(r)*d^2(gamm)/dr^2 + 5*r*e^gamm(r)*d(gamm)/dr - (r^2*e^gamm(r)*d(gamm)/dr + 7*r*e^gamm(r))*d(lamb)/dr - 10*e^(gamm(r) + lamb(r)) + 10*e^gamm(r))*e^(-lamb(r))*sin(th)^2 \n",
       "P_t,ph,ph,t = -1/2*r*e^(gamm(r) - lamb(r))*sin(th)^2*d(gamm)/dr \n",
       "P_r,t,t,r = -1/4*e^gamm(r)*(d(gamm)/dr)^2 + 1/4*e^gamm(r)*d(gamm)/dr*d(lamb)/dr - 1/2*e^gamm(r)*d^2(gamm)/dr^2 \n",
       "P_r,t,r,t = -1/8*(3*r^2*e^gamm(r)*(d(gamm)/dr)^2 + 6*r^2*e^gamm(r)*d^2(gamm)/dr^2 + 20*r*e^gamm(r)*d(gamm)/dr - (3*r^2*e^gamm(r)*d(gamm)/dr + 8*r*e^gamm(r))*d(lamb)/dr - 8*e^(gamm(r) + lamb(r)) + 8*e^gamm(r))/r^2 \n",
       "P_r,r,t,t = 1/8*(5*r^2*e^gamm(r)*(d(gamm)/dr)^2 + 10*r^2*e^gamm(r)*d^2(gamm)/dr^2 + 20*r*e^gamm(r)*d(gamm)/dr - (5*r^2*e^gamm(r)*d(gamm)/dr + 8*r*e^gamm(r))*d(lamb)/dr - 8*e^(gamm(r) + lamb(r)) + 8*e^gamm(r))/r^2 \n",
       "P_r,r,th,th = -1/4*r^2*(d(gamm)/dr)^2 - 1/2*r^2*d^2(gamm)/dr^2 - 7/4*r*d(gamm)/dr + 1/4*(r^2*d(gamm)/dr + 7*r)*d(lamb)/dr + 5/2*e^lamb(r) - 5/2 \n",
       "P_r,r,ph,ph = -1/4*(r^2*(d(gamm)/dr)^2 + 2*r^2*d^2(gamm)/dr^2 + 7*r*d(gamm)/dr - (r^2*d(gamm)/dr + 7*r)*d(lamb)/dr - 10*e^lamb(r) + 10)*sin(th)^2 \n",
       "P_r,th,r,th = 1/4*r^2*(d(gamm)/dr)^2 + 1/2*r^2*d^2(gamm)/dr^2 + 7/4*r*d(gamm)/dr - 1/4*(r^2*d(gamm)/dr + 5*r)*d(lamb)/dr - 5/2*e^lamb(r) + 5/2 \n",
       "P_r,th,th,r = -1/2*r*d(lamb)/dr \n",
       "P_r,ph,r,ph = 1/4*(r^2*(d(gamm)/dr)^2 + 2*r^2*d^2(gamm)/dr^2 + 7*r*d(gamm)/dr - (r^2*d(gamm)/dr + 5*r)*d(lamb)/dr - 10*e^lamb(r) + 10)*sin(th)^2 \n",
       "P_r,ph,ph,r = -1/2*r*sin(th)^2*d(lamb)/dr \n",
       "P_th,t,t,th = -1/2*r*e^(gamm(r) - lamb(r))*d(gamm)/dr \n",
       "P_th,t,th,t = -1/8*(5*r^2*e^gamm(r)*(d(gamm)/dr)^2 + 10*r^2*e^gamm(r)*d^2(gamm)/dr^2 + 16*r*e^gamm(r)*d(gamm)/dr - (5*r^2*e^gamm(r)*d(gamm)/dr + 8*r*e^gamm(r))*d(lamb)/dr - 8*e^(gamm(r) + lamb(r)) + 8*e^gamm(r))*e^(-lamb(r)) \n",
       "P_th,r,r,th = -1/2*r*d(lamb)/dr \n",
       "P_th,r,th,r = 5/8*r^2*(d(gamm)/dr)^2 + 5/4*r^2*d^2(gamm)/dr^2 + r*d(gamm)/dr - 1/8*(5*r^2*d(gamm)/dr + 16*r)*d(lamb)/dr - e^lamb(r) + 1 \n",
       "P_th,th,t,t = 1/8*(5*r^2*e^gamm(r)*(d(gamm)/dr)^2 + 10*r^2*e^gamm(r)*d^2(gamm)/dr^2 + 20*r*e^gamm(r)*d(gamm)/dr - (5*r^2*e^gamm(r)*d(gamm)/dr + 8*r*e^gamm(r))*d(lamb)/dr - 8*e^(gamm(r) + lamb(r)) + 8*e^gamm(r))*e^(-lamb(r)) \n",
       "P_th,th,r,r = -5/8*r^2*(d(gamm)/dr)^2 - 5/4*r^2*d^2(gamm)/dr^2 - r*d(gamm)/dr + 5/8*(r^2*d(gamm)/dr + 4*r)*d(lamb)/dr + e^lamb(r) - 1 \n",
       "P_th,th,ph,ph = -1/4*(r^4*(d(gamm)/dr)^2 + 2*r^4*d^2(gamm)/dr^2 + 7*r^3*d(gamm)/dr - 10*r^2*e^lamb(r) + 10*r^2 - (r^4*d(gamm)/dr + 7*r^3)*d(lamb)/dr)*e^(-lamb(r))*sin(th)^2 \n",
       "P_th,ph,th,ph = 1/4*(r^4*(d(gamm)/dr)^2 + 2*r^4*d^2(gamm)/dr^2 + 7*r^3*d(gamm)/dr - 6*r^2*e^lamb(r) + 6*r^2 - (r^4*d(gamm)/dr + 7*r^3)*d(lamb)/dr)*e^(-lamb(r))*sin(th)^2 \n",
       "P_th,ph,ph,th = -(r^2*e^lamb(r) - r^2)*e^(-lamb(r))*sin(th)^2 \n",
       "P_ph,t,t,ph = -1/2*r*e^(gamm(r) - lamb(r))*sin(th)^2*d(gamm)/dr \n",
       "P_ph,t,ph,t = -1/8*(5*r^2*e^gamm(r)*(d(gamm)/dr)^2 + 10*r^2*e^gamm(r)*d^2(gamm)/dr^2 + 16*r*e^gamm(r)*d(gamm)/dr - (5*r^2*e^gamm(r)*d(gamm)/dr + 8*r*e^gamm(r))*d(lamb)/dr - 8*e^(gamm(r) + lamb(r)) + 8*e^gamm(r))*e^(-lamb(r))*sin(th)^2 \n",
       "P_ph,r,r,ph = -1/2*r*sin(th)^2*d(lamb)/dr \n",
       "P_ph,r,ph,r = 1/8*(5*r^2*(d(gamm)/dr)^2 + 10*r^2*d^2(gamm)/dr^2 + 8*r*d(gamm)/dr - (5*r^2*d(gamm)/dr + 16*r)*d(lamb)/dr - 8*e^lamb(r) + 8)*sin(th)^2 \n",
       "P_ph,th,th,ph = -(r^2*e^lamb(r) - r^2)*e^(-lamb(r))*sin(th)^2 \n",
       "P_ph,th,ph,th = 1/4*(r^4*(d(gamm)/dr)^2 + 2*r^4*d^2(gamm)/dr^2 + 7*r^3*d(gamm)/dr - 6*r^2*e^lamb(r) + 6*r^2 - (r^4*d(gamm)/dr + 7*r^3)*d(lamb)/dr)*e^(-lamb(r))*sin(th)^2 \n",
       "P_ph,ph,t,t = 1/8*(5*r^2*e^gamm(r)*(d(gamm)/dr)^2 + 10*r^2*e^gamm(r)*d^2(gamm)/dr^2 + 20*r*e^gamm(r)*d(gamm)/dr - (5*r^2*e^gamm(r)*d(gamm)/dr + 8*r*e^gamm(r))*d(lamb)/dr - 8*e^(gamm(r) + lamb(r)) + 8*e^gamm(r))*e^(-lamb(r))*sin(th)^2 \n",
       "P_ph,ph,r,r = -1/8*(5*r^2*(d(gamm)/dr)^2 + 10*r^2*d^2(gamm)/dr^2 + 8*r*d(gamm)/dr - 5*(r^2*d(gamm)/dr + 4*r)*d(lamb)/dr - 8*e^lamb(r) + 8)*sin(th)^2 \n",
       "P_ph,ph,th,th = -1/4*(r^4*(d(gamm)/dr)^2 + 2*r^4*d^2(gamm)/dr^2 + 7*r^3*d(gamm)/dr - 10*r^2*e^lamb(r) + 10*r^2 - (r^4*d(gamm)/dr + 7*r^3)*d(lamb)/dr)*e^(-lamb(r))*sin(th)^2 "
      ]
     },
     "execution_count": 14,
     "metadata": {},
     "output_type": "execute_result"
    }
   ],
   "source": [
    "#Cálculo del tensor P\n",
    "gR = g['_{ab}']*Ricdown['_{cd}']\n",
    "gg = g['_{ab}']*g['_{cd}']\n",
    "P=Riemdown+gR['_{a[dc]b}']+gR['_{a[dc]b}']+gR['_{b[cd]a}']+R*gg['_{a[cd]b}']\n",
    "P.set_name('P') ;\n",
    "P.display_comp(only_nonredundant=True)"
   ]
  },
  {
   "cell_type": "code",
   "execution_count": null,
   "metadata": {},
   "outputs": [],
   "source": []
  }
 ],
 "metadata": {
  "kernelspec": {
   "display_name": "SageMath 9.3",
   "language": "sage",
   "name": "sagemath"
  },
  "language_info": {
   "codemirror_mode": {
    "name": "ipython",
    "version": 3
   },
   "file_extension": ".py",
   "mimetype": "text/x-python",
   "name": "python",
   "nbconvert_exporter": "python",
   "pygments_lexer": "ipython3",
   "version": "3.7.10"
  }
 },
 "nbformat": 4,
 "nbformat_minor": 4
}
